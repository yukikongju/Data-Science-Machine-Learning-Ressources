{
 "cells": [
  {
   "cell_type": "markdown",
   "metadata": {},
   "source": [
    "## Support Vector Machines"
   ]
  },
  {
   "cell_type": "markdown",
   "metadata": {},
   "source": [
    "#### Training a Linear Classifier"
   ]
  },
  {
   "cell_type": "code",
   "execution_count": 674,
   "metadata": {},
   "outputs": [
    {
     "data": {
      "image/png": "[encoded data removed]",
      "text/plain": [
       "<Figure size 432x288 with 1 Axes>"
      ]
     },
     "metadata": {
      "needs_background": "light"
     },
     "output_type": "display_data"
    },
    {
     "data": {
      "text/plain": [
       "array([0])"
      ]
     },
     "execution_count": 674,
     "metadata": {},
     "output_type": "execute_result"
    }
   ],
   "source": [
    "from sklearn.svm import LinearSVC\n",
    "from sklearn.datasets import load_iris\n",
    "from sklearn.preprocessing import StandardScaler\n",
    "import numpy as np\n",
    "import matplotlib.pyplot as plt\n",
    "\n",
    "# load data\n",
    "iris = load_iris()\n",
    "features = iris.data[:120, :2]\n",
    "target = iris.target[:120]\n",
    "\n",
    "# standardize data\n",
    "features_standardized = StandardScaler().fit_transform(features)\n",
    "\n",
    "# create SVC\n",
    "svc= LinearSVC(C=1.0).fit(features_standardized, target)\n",
    "\n",
    "# # Plot data points and color using their class\n",
    "color = [\"black\" if c == 0 else \"lightgrey\" for c in target]\n",
    "plt.scatter(features_standardized[:,0], features_standardized[:,1], c=color)\n",
    "\n",
    "# Create the hyperplane\n",
    "w = svc.coef_[0]\n",
    "a = -w[0] / w[1]\n",
    "xx = np.linspace(-2.5, 2.5)\n",
    "yy = a * xx - (svc.intercept_[0]) / w[1]\n",
    "\n",
    "# Plot the hyperplane\n",
    "plt.plot(xx, yy)\n",
    "plt.axis(\"off\"), plt.show();\n",
    "\n",
    "# create new observation\n",
    "new_observation = [[ -2, 3]]\n",
    "\n",
    "# Predict class of new observation\n",
    "svc.predict(new_observation)"
   ]
  },
  {
   "cell_type": "markdown",
   "metadata": {},
   "source": [
    "#### Handling Linearly Inseparable Classes Using Kernels"
   ]
  },
  {
   "cell_type": "code",
   "execution_count": 681,
   "metadata": {
    "scrolled": true
   },
   "outputs": [
    {
     "name": "stderr",
     "output_type": "stream",
     "text": [
      "c:\\users\\emuli\\appdata\\local\\programs\\python\\python37\\lib\\site-packages\\ipykernel_launcher.py:30: UserWarning: No contour levels were found within the data range.\n",
      "'c' argument looks like a single numeric RGB or RGBA sequence, which should be avoided as value-mapping will have precedence in case its length matches with 'x' & 'y'.  Please use a 2-D array with a single row if you really want to specify the same RGB or RGBA value for all points.\n",
      "'c' argument looks like a single numeric RGB or RGBA sequence, which should be avoided as value-mapping will have precedence in case its length matches with 'x' & 'y'.  Please use a 2-D array with a single row if you really want to specify the same RGB or RGBA value for all points.\n"
     ]
    },
    {
     "data": {
      "image/png": "[encoded data removed]",
      "text/plain": [
       "<Figure size 432x288 with 1 Axes>"
      ]
     },
     "metadata": {
      "needs_background": "light"
     },
     "output_type": "display_data"
    }
   ],
   "source": [
    "from sklearn.svm import SVC\n",
    "from sklearn.preprocessing import StandardScaler\n",
    "import numpy as np\n",
    "from matplotlib.colors import ListedColormap\n",
    "import matplotlib.pyplot as plt\n",
    "\n",
    "# set seed\n",
    "np.random.seed(420)\n",
    "\n",
    "# Generate two features\n",
    "features = np.random.randn(200,2)\n",
    "\n",
    "# generate xor gate fro linearly inseperable classes\n",
    "target_xor = np.logical_xor(features[:,0] > 0, \n",
    "                            features[:,1]> 0 )\n",
    "target = np.where(target_xor, 0, 1)\n",
    "\n",
    "# create svc\n",
    "svc = SVC(kernel ='rbf', random_state = 420, gamma =1, C=1)\n",
    "svc.fit(features, target)\n",
    "\n",
    "# plot the SVM\n",
    "def plot_decision_regions(features, target, classifier):\n",
    "    cmap = ListedColormap('red', 'blue')\n",
    "    xx1, xx2 = np.meshgrid(np.arange(-3, 3, 0.02),\n",
    "                          np.arange(-3,3,0.02))\n",
    "    Z = classifier.predict(np.array([xx1.ravel(),\n",
    "                                    xx2.ravel()]).T)\n",
    "    Z= Z.reshape(xx1.shape)\n",
    "    plt.contour(xx1,xx2, Z, alpha = 0.1, cmap=cmap)\n",
    "    \n",
    "    for idx, cl in enumerate(np.unique(target)):\n",
    "        plt.scatter(x=features[target ==cl, 0],\n",
    "                    y=features[target ==cl, 1],\n",
    "                   alpha =0.8, c=cmap(idx),\n",
    "                   marker='+', label = cl)\n",
    "        \n",
    "plot_decision_regions(features, target, classifier = svc)\n",
    "plt.show()"
   ]
  },
  {
   "cell_type": "markdown",
   "metadata": {},
   "source": [
    "#### Creating Predicted Probabilities"
   ]
  },
  {
   "cell_type": "code",
   "execution_count": 687,
   "metadata": {},
   "outputs": [
    {
     "data": {
      "text/plain": [
       "array([[0.94509124, 0.04574674, 0.00916202]])"
      ]
     },
     "execution_count": 687,
     "metadata": {},
     "output_type": "execute_result"
    }
   ],
   "source": [
    "from sklearn.svm import SVC\n",
    "from sklearn.preprocessing import StandardScaler\n",
    "from sklearn.datasets import load_iris\n",
    "\n",
    "# load data \n",
    "iris = datasets.load_iris()\n",
    "features = iris.data\n",
    "target = iris.target\n",
    "\n",
    "# Standardize features\n",
    "scaler = StandardScaler()\n",
    "features_standardized = scaler.fit_transform(features)\n",
    "\n",
    "# create svc\n",
    "svc = SVC(kernel = 'linear', probability =True, random_state =0)\n",
    "svc.fit(features, target)\n",
    "\n",
    "# predict \n",
    "new_observation = [[.4 ,.4,.4 ,.4]]\n",
    "svc.predict(new_observation)\n",
    "svc.predict_proba(new_observation)\n",
    "\n",
    "# to generate the model probability, we must set it true"
   ]
  },
  {
   "cell_type": "markdown",
   "metadata": {},
   "source": [
    "#### Identifying Support Vectors"
   ]
  },
  {
   "cell_type": "code",
   "execution_count": 689,
   "metadata": {},
   "outputs": [
    {
     "data": {
      "text/plain": [
       "array([ 23,  41,  52,  54,  56,  57,  66,  68,  70,  72,  76,  77,  78,\n",
       "        83,  84,  87,  98, 106, 110, 119, 123, 126, 127, 129, 133, 134,\n",
       "       137, 138, 149])"
      ]
     },
     "execution_count": 689,
     "metadata": {},
     "output_type": "execute_result"
    }
   ],
   "source": [
    "from sklearn.svm import SVC\n",
    "from sklearn.preprocessing import StandardScaler\n",
    "from sklearn.datasets import load_iris\n",
    "\n",
    "# load data \n",
    "iris = load_iris()\n",
    "features = iris.data\n",
    "target =iris.target\n",
    "\n",
    "# standardize features\n",
    "features_standardized = StandardScaler().fit_transform(features)\n",
    "\n",
    "# create svc\n",
    "svc =SVC(kernel='linear', random_state =0)\n",
    "svc.fit(features_standardized, target)\n",
    "\n",
    "# view support vectors\n",
    "svc.support_vectors_\n",
    "svc.support_"
   ]
  },
  {
   "cell_type": "markdown",
   "metadata": {},
   "source": [
    "#### Handling Imbalanced Classes "
   ]
  },
  {
   "cell_type": "code",
   "execution_count": 691,
   "metadata": {},
   "outputs": [
    {
     "data": {
      "text/plain": [
       "SVC(C=1, break_ties=False, cache_size=200, class_weight='balanced', coef0=0.0,\n",
       "    decision_function_shape='ovr', degree=3, gamma='scale', kernel='linear',\n",
       "    max_iter=-1, probability=False, random_state=0, shrinking=True, tol=0.001,\n",
       "    verbose=False)"
      ]
     },
     "execution_count": 691,
     "metadata": {},
     "output_type": "execute_result"
    }
   ],
   "source": [
    "from sklearn.svm import SVC\n",
    "from sklearn.datasets import load_iris\n",
    "from sklearn.preprocessing import StandardScaler\n",
    "\n",
    "# load dataset imbalanced\n",
    "iris = load_iris()\n",
    "features = iris.data [40:100,:]\n",
    "target = iris.target [40:100]\n",
    "\n",
    "# create target vector\n",
    "target = np.where((target == 0),0,1)\n",
    "\n",
    "# scale features\n",
    "features_standardized = StandardScaler().fit_transform(features)\n",
    "\n",
    "# create svc\n",
    "svc = SVC(kernel = 'linear', class_weight = 'balanced', C =1, \n",
    "         random_state =0)\n",
    "svc.fit(features_standardized, target)\n"
   ]
  }
 ],
 "metadata": {
  "kernelspec": {
   "display_name": "Python 3",
   "language": "python",
   "name": "python3"
  },
  "language_info": {
   "codemirror_mode": {
    "name": "ipython",
    "version": 3
   },
   "file_extension": ".py",
   "mimetype": "text/x-python",
   "name": "python",
   "nbconvert_exporter": "python",
   "pygments_lexer": "ipython3",
   "version": "3.7.7"
  }
 },
 "nbformat": 4,
 "nbformat_minor": 4
}
