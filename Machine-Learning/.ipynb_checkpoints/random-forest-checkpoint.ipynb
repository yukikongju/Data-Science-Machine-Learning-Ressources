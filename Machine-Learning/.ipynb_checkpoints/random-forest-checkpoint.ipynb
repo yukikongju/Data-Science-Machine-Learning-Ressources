{
 "cells": [
  {
   "cell_type": "markdown",
   "metadata": {},
   "source": [
    "## Trees and Forests"
   ]
  },
  {
   "cell_type": "markdown",
   "metadata": {},
   "source": [
    "#### Training a Decision Tree Classifier "
   ]
  },
  {
   "cell_type": "code",
   "execution_count": 604,
   "metadata": {},
   "outputs": [
    {
     "data": {
      "text/plain": [
       "array([[0., 0., 1.]])"
      ]
     },
     "execution_count": 604,
     "metadata": {},
     "output_type": "execute_result"
    }
   ],
   "source": [
    "from sklearn.tree import DecisionTreeClassifier\n",
    "from sklearn.datasets import load_iris\n",
    "\n",
    "# load data\n",
    "iris = load_iris()\n",
    "features = iris.data\n",
    "target = iris.target\n",
    "\n",
    "# create decision tree classifier\n",
    "decision_tree = DecisionTreeClassifier(random_state = 0, \n",
    "                                      criterion = 'entropy') \\\n",
    "    .fit(features, target)\n",
    "\n",
    "# make prediction\n",
    "decision_tree.predict([[2,3,4,5]])\n",
    "decision_tree.predict_proba([[2,3,4,5]])\n",
    "\n",
    "# decision trees use gini or entropy impurity to determine\n",
    "# the best threshold"
   ]
  },
  {
   "cell_type": "markdown",
   "metadata": {},
   "source": [
    "#### Train a Decision Tree Regressor "
   ]
  },
  {
   "cell_type": "code",
   "execution_count": 610,
   "metadata": {},
   "outputs": [
    {
     "data": {
      "text/plain": [
       "DecisionTreeRegressor(ccp_alpha=0.0, criterion='mse', max_depth=None,\n",
       "                      max_features=None, max_leaf_nodes=None,\n",
       "                      min_impurity_decrease=0.0, min_impurity_split=None,\n",
       "                      min_samples_leaf=1, min_samples_split=2,\n",
       "                      min_weight_fraction_leaf=0.0, presort='deprecated',\n",
       "                      random_state=420, splitter='best')"
      ]
     },
     "execution_count": 610,
     "metadata": {},
     "output_type": "execute_result"
    }
   ],
   "source": [
    "from sklearn.datasets import load_boston\n",
    "from sklearn.tree import DecisionTreeRegressor\n",
    "from sklearn.preprocessing import StandardScaler\n",
    "\n",
    "# load data\n",
    "boston = datasets.load_boston()\n",
    "features = boston.data\n",
    "target = boston.target\n",
    "\n",
    "# standardize features\n",
    "features_standardized = StandardScaler().fit_transform(features)\n",
    "\n",
    "# create tree\n",
    "tree = DecisionTreeRegressor(random_state =420, criterion ='mse') \n",
    "tree.fit(features_standardized, target)\n",
    "    \n",
    "# regression tree use MSE or MAE"
   ]
  },
  {
   "cell_type": "markdown",
   "metadata": {},
   "source": [
    "#### Visualizing Decision Tree Model"
   ]
  },
  {
   "cell_type": "code",
   "execution_count": 621,
   "metadata": {},
   "outputs": [],
   "source": [
    "import pydotplus\n",
    "from sklearn.datasets import load_iris\n",
    "from sklearn.tree import DecisionTreeClassifier\n",
    "from IPython.display import Image\n",
    "from sklearn import tree\n",
    "\n",
    "# Load data\n",
    "iris = datasets.load_iris()\n",
    "features = iris.data\n",
    "target = iris.target\n",
    "\n",
    "# create decision tree\n",
    "decision_tree = DecisionTreeClassifier(random_state = 420, criterion = 'gini')\n",
    "decision_tree.fit(features, target)\n",
    "\n",
    "# create dot data\n",
    "dot_data = tree.export_graphviz(decision_tree, \n",
    "                               out_file = None, \n",
    "                               feature_names = iris.feature_names,\n",
    "                               class_names = iris.target_names)\n",
    "\n",
    "# draw graph\n",
    "graph = pydotplus.graph_from_dot_data(dot_data)\n",
    "# Image(graph.create_png())\n",
    "\n",
    "# save graph\n",
    "# graph.write_png('iris_tree.png')"
   ]
  },
  {
   "cell_type": "markdown",
   "metadata": {},
   "source": [
    "#### Training a Random Forest Classifier"
   ]
  },
  {
   "cell_type": "code",
   "execution_count": 622,
   "metadata": {},
   "outputs": [
    {
     "data": {
      "text/plain": [
       "RandomForestClassifier(bootstrap=True, ccp_alpha=0.0, class_weight=None,\n",
       "                       criterion='entropy', max_depth=None, max_features='auto',\n",
       "                       max_leaf_nodes=None, max_samples=None,\n",
       "                       min_impurity_decrease=0.0, min_impurity_split=None,\n",
       "                       min_samples_leaf=1, min_samples_split=2,\n",
       "                       min_weight_fraction_leaf=0.0, n_estimators=100,\n",
       "                       n_jobs=-1, oob_score=False, random_state=0, verbose=0,\n",
       "                       warm_start=False)"
      ]
     },
     "execution_count": 622,
     "metadata": {},
     "output_type": "execute_result"
    }
   ],
   "source": [
    "from sklearn.ensemble import RandomForestClassifier\n",
    "from sklearn import datasets\n",
    "\n",
    "# load data\n",
    "iris = datasets.load_iris()\n",
    "features = iris.data\n",
    "target = iris.target\n",
    "\n",
    "# create random forest\n",
    "randomforest = RandomForestClassifier(random_state =0,\n",
    "            n_jobs = -1, criterion = 'entropy')\n",
    "randomforest.fit(features, target)"
   ]
  },
  {
   "cell_type": "markdown",
   "metadata": {},
   "source": [
    "#### Training RandomForest Regressor "
   ]
  },
  {
   "cell_type": "code",
   "execution_count": 623,
   "metadata": {},
   "outputs": [
    {
     "data": {
      "text/plain": [
       "RandomForestRegressor(bootstrap=True, ccp_alpha=0.0, criterion='mse',\n",
       "                      max_depth=None, max_features='auto', max_leaf_nodes=None,\n",
       "                      max_samples=None, min_impurity_decrease=0.0,\n",
       "                      min_impurity_split=None, min_samples_leaf=1,\n",
       "                      min_samples_split=2, min_weight_fraction_leaf=0.0,\n",
       "                      n_estimators=100, n_jobs=-1, oob_score=False,\n",
       "                      random_state=0, verbose=0, warm_start=False)"
      ]
     },
     "execution_count": 623,
     "metadata": {},
     "output_type": "execute_result"
    }
   ],
   "source": [
    "from sklearn.datasets import load_boston\n",
    "from sklearn.ensemble import RandomForestRegressor\n",
    "from sklearn.preprocessing import StandardScaler\n",
    "\n",
    "# load data\n",
    "boston = datasets.load_boston()\n",
    "features = boston.data\n",
    "target = boston.target\n",
    "\n",
    "# standardize features\n",
    "features_standardized = StandardScaler().fit_transform(features)\n",
    "\n",
    "# create random forest\n",
    "randomforest = RandomForestRegressor(random_state =0,\n",
    "                                     n_jobs =- 1,\n",
    "                                    criterion = 'mse')\n",
    "randomforest.fit(features_standardized, target)\n",
    "# "
   ]
  },
  {
   "cell_type": "markdown",
   "metadata": {},
   "source": [
    "#### Identifying Important Feature in Random Forests "
   ]
  },
  {
   "cell_type": "code",
   "execution_count": 630,
   "metadata": {},
   "outputs": [
    {
     "data": {
      "text/plain": [
       "<BarContainer object of 4 artists>"
      ]
     },
     "execution_count": 630,
     "metadata": {},
     "output_type": "execute_result"
    },
    {
     "data": {
      "image/png": "[encoded data removed]",
      "text/plain": [
       "<Figure size 432x288 with 1 Axes>"
      ]
     },
     "metadata": {
      "needs_background": "light"
     },
     "output_type": "display_data"
    }
   ],
   "source": [
    "import numpy as np\n",
    "import matplotlib.pyplot as plt\n",
    "from sklearn.ensemble import RandomForestClassifier\n",
    "from sklearn.datasets import load_iris\n",
    "\n",
    "# load data\n",
    "iris = load_iris()\n",
    "features = iris.data\n",
    "target = iris.target\n",
    "\n",
    "# create random forest\n",
    "randomforest = RandomForestClassifier(\n",
    "    random_state =420, n_jobs =-1, criterion = 'gini')\n",
    "randomforest.fit(features, target)\n",
    "\n",
    "# calculate feature importances and sort \n",
    "importances = randomforest.feature_importances_\n",
    "indices = np.argsort(importances)[::-1]\n",
    "\n",
    "# rearrange names\n",
    "names = [iris.feature_names[i] for i in indices]\n",
    "\n",
    "# create plot\n",
    "plt.figure()\n",
    "plt.title('Feature Importance')\n",
    "plt.xticks(range(features.shape[1]), names, rotation=90)\n",
    "plt.bar(range(features.shape[1]), importances[indices])\n",
    "plt.show()"
   ]
  },
  {
   "cell_type": "markdown",
   "metadata": {},
   "source": [
    "#### Selecting Important Features in Random Forest "
   ]
  },
  {
   "cell_type": "code",
   "execution_count": 631,
   "metadata": {},
   "outputs": [],
   "source": [
    "from sklearn.ensemble import RandomForestClassifier\n",
    "from sklearn.datasets import load_iris\n",
    "from sklearn.feature_selection import SelectFromModel\n",
    "\n",
    "# load data\n",
    "iris = datasets.load_iris()\n",
    "features = iris.data\n",
    "target = iris.target\n",
    "\n",
    "# create random forest\n",
    "randomforest = RandomForestClassifier(\n",
    "    random_state = 420, n_jobs=-1, criterion = 'entropy')\n",
    "\n",
    "# create selector: select feature greater than threshold\n",
    "selector = SelectFromModel(randomforest, threshold = 0.3)\n",
    "\n",
    "# get most important features\n",
    "features_important = selector.fit_transform(features, target)\n",
    "\n",
    "# create model\n",
    "model= randomforest.fit(features_important, target)"
   ]
  },
  {
   "cell_type": "markdown",
   "metadata": {},
   "source": [
    "#### Handling Imbalanced Classes "
   ]
  },
  {
   "cell_type": "code",
   "execution_count": 632,
   "metadata": {},
   "outputs": [
    {
     "data": {
      "text/plain": [
       "RandomForestClassifier(bootstrap=True, ccp_alpha=0.0, class_weight='balanced',\n",
       "                       criterion='gini', max_depth=None, max_features='auto',\n",
       "                       max_leaf_nodes=None, max_samples=None,\n",
       "                       min_impurity_decrease=0.0, min_impurity_split=None,\n",
       "                       min_samples_leaf=1, min_samples_split=2,\n",
       "                       min_weight_fraction_leaf=0.0, n_estimators=100,\n",
       "                       n_jobs=-1, oob_score=False, random_state=420, verbose=0,\n",
       "                       warm_start=False)"
      ]
     },
     "execution_count": 632,
     "metadata": {},
     "output_type": "execute_result"
    }
   ],
   "source": [
    "import numpy as np\n",
    "from sklearn.ensemble import RandomForestClassifier\n",
    "from sklearn import datasets\n",
    "\n",
    "# load data\n",
    "iris = datasets.load_iris()\n",
    "features = iris.data\n",
    "target = iris.target\n",
    "\n",
    "# Make class highly imbalanced by removing first 40 observations\n",
    "features = features[40:,:]\n",
    "target = target[40:]\n",
    "\n",
    "# create balanced random forest\n",
    "randomforest = RandomForestClassifier(\n",
    "    criterion = 'gini', random_state = 420,\n",
    "    class_weight = 'balanced', n_jobs = -1\n",
    ")\n",
    "\n",
    "randomforest.fit(features, target)\n",
    "\n",
    "# imbalanced classes reduce the performance of the model bc it\n",
    "# is biased toward the classes with more observations"
   ]
  },
  {
   "cell_type": "markdown",
   "metadata": {},
   "source": [
    "#### Controling Tree Size : decisde tree size manually"
   ]
  },
  {
   "cell_type": "code",
   "execution_count": 634,
   "metadata": {},
   "outputs": [
    {
     "data": {
      "text/plain": [
       "DecisionTreeClassifier(ccp_alpha=0.0, class_weight=None, criterion='gini',\n",
       "                       max_depth=None, max_features=None, max_leaf_nodes=None,\n",
       "                       min_impurity_decrease=0, min_impurity_split=None,\n",
       "                       min_samples_leaf=1, min_samples_split=2,\n",
       "                       min_weight_fraction_leaf=0, presort='deprecated',\n",
       "                       random_state=420, splitter='best')"
      ]
     },
     "execution_count": 634,
     "metadata": {},
     "output_type": "execute_result"
    }
   ],
   "source": [
    "from sklearn.tree import DecisionTreeClassifier\n",
    "from sklearn import datasets\n",
    "\n",
    "# Load data\n",
    "iris = datasets.load_iris()\n",
    "features = iris.data\n",
    "target = iris.target\n",
    "\n",
    "# create decision tree\n",
    "decisiontree = DecisionTreeClassifier(\n",
    "    random_state =420,\n",
    "    max_depth = None,\n",
    "    min_samples_split=2,\n",
    "    min_samples_leaf =1,\n",
    "    min_weight_fraction_leaf =0,\n",
    "    max_leaf_nodes =None, \n",
    "    min_impurity_decrease=0\n",
    ")\n",
    "\n",
    "decisiontree.fit(features, target)\n"
   ]
  },
  {
   "cell_type": "markdown",
   "metadata": {},
   "source": [
    "#### Imporve Performance through boosting "
   ]
  },
  {
   "cell_type": "code",
   "execution_count": 636,
   "metadata": {},
   "outputs": [
    {
     "data": {
      "text/plain": [
       "AdaBoostClassifier(algorithm='SAMME.R', base_estimator=None, learning_rate=1.0,\n",
       "                   n_estimators=50, random_state=0)"
      ]
     },
     "execution_count": 636,
     "metadata": {},
     "output_type": "execute_result"
    }
   ],
   "source": [
    "from sklearn.ensemble import AdaBoostClassifier\n",
    "from sklearn.datasets import load_iris\n",
    "\n",
    "# Load data\n",
    "iris = datasets.load_iris()\n",
    "features = iris.data\n",
    "target = iris.target\n",
    "\n",
    "# create adaboost\n",
    "adaboost = AdaBoostClassifier(\n",
    "    random_state=0)\n",
    "adaboost.fit(features, target)\n",
    "\n",
    "# learning_rate, n_estimators, loss"
   ]
  },
  {
   "cell_type": "markdown",
   "metadata": {},
   "source": [
    "#### Evaluating Random Forest with Out-of-bags errors "
   ]
  },
  {
   "cell_type": "code",
   "execution_count": 637,
   "metadata": {},
   "outputs": [
    {
     "data": {
      "text/plain": [
       "0.9533333333333334"
      ]
     },
     "execution_count": 637,
     "metadata": {},
     "output_type": "execute_result"
    }
   ],
   "source": [
    "from sklearn.ensemble import RandomForestClassifier\n",
    "from sklearn.datasets import load_iris\n",
    "\n",
    "# Load data\n",
    "iris = datasets.load_iris()\n",
    "features = iris.data\n",
    "target = iris.target\n",
    "\n",
    "# create random forest\n",
    "randomforest = RandomForestClassifier(\n",
    "    random_state=0, n_estimators = 1000,\n",
    "    oob_score = True, n_jobs =-1\n",
    ")\n",
    "randomforest.fit(features, target)\n",
    "\n",
    "# view oob errors\n",
    "randomforest.oob_score_\n",
    "\n",
    "# the oobs errors: we evaluate the tree using observation left out\n",
    "# during trainign"
   ]
  }
 ],
 "metadata": {
  "kernelspec": {
   "display_name": "Python 3",
   "language": "python",
   "name": "python3"
  },
  "language_info": {
   "codemirror_mode": {
    "name": "ipython",
    "version": 3
   },
   "file_extension": ".py",
   "mimetype": "text/x-python",
   "name": "python",
   "nbconvert_exporter": "python",
   "pygments_lexer": "ipython3",
   "version": "3.7.7"
  }
 },
 "nbformat": 4,
 "nbformat_minor": 4
}
