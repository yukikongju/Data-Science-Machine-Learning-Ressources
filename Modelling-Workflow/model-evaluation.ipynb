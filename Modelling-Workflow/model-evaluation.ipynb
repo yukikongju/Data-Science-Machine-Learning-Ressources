{
 "cells": [
  {
   "cell_type": "markdown",
   "metadata": {},
   "source": [
    "## Model Evaluation "
   ]
  },
  {
   "cell_type": "markdown",
   "metadata": {},
   "source": [
    "#### Crossvalidation: create pipeline to preprocess data, train model, and evaluate it using crossvalidation"
   ]
  },
  {
   "cell_type": "code",
   "execution_count": 499,
   "metadata": {},
   "outputs": [],
   "source": [
    "from sklearn import datasets\n",
    "from sklearn import metrics\n",
    "from sklearn.model_selection import KFold, cross_val_score\n",
    "from sklearn.pipeline import make_pipeline\n",
    "from sklearn.linear_model import LogisticRegression\n",
    "from sklearn.preprocessing import StandardScaler\n",
    "from sklearn.model_selection import train_test_split\n",
    "\n",
    "# load data\n",
    "digits = datasets.load_digits()\n",
    "features = digits.data\n",
    "targets = digits.target\n",
    "\n",
    "# split training and testing data\n",
    "features_train, features_test, target_train, target_test = train_test_split(features, targets, test_size=0.1, random_state=1)\n",
    "\n",
    "# create stardardizer\n",
    "standardizer = StandardScaler()\n",
    "\n",
    "# Fit standardizer to training set\n",
    "standardizer.fit(features_train)\n",
    "\n",
    "# Apply to both training and test sets\n",
    "features_train_std = standardizer.transform(features_train)\n",
    "features_test_std = standardizer.transform(features_test)\n",
    "\n",
    "# create model\n",
    "model = LogisticRegression()\n",
    "\n",
    "# create k-Fols cross-validation\n",
    "kf = KFold(n_splits =10, shuffle = True, random_state =420)\n",
    "\n",
    "# create pipeline\n",
    "pipeline = make_pipeline(standardizer, model)\n",
    "\n",
    "\n",
    "# make crossvalidation\n",
    "cv_results = cross_val_score(pipeline,\n",
    "                            features, \n",
    "                            targets,\n",
    "                            cv = kf, \n",
    "                            scoring = 'accuracy',\n",
    "                            n_jobs =-1 ) # use all CPU\n"
   ]
  },
  {
   "cell_type": "markdown",
   "metadata": {},
   "source": [
    "#### Create a baseline regression model to compare model with using DummyRegressor for regression"
   ]
  },
  {
   "cell_type": "code",
   "execution_count": 501,
   "metadata": {},
   "outputs": [
    {
     "name": "stdout",
     "output_type": "stream",
     "text": [
      "dummy R2 :  -0.0005163354383890262\n",
      "lin reg R2: 0.8075265103858612\n"
     ]
    }
   ],
   "source": [
    "from sklearn.datasets import load_boston\n",
    "from sklearn.dummy import DummyRegressor\n",
    "from sklearn.model_selection import train_test_split\n",
    "from sklearn.linear_model import LinearRegression\n",
    "\n",
    "# load data\n",
    "boston = load_boston()\n",
    "features = boston.data\n",
    "target = boston.target\n",
    "\n",
    "# split training and testing data\n",
    "features_train, features_test, target_train, target_test = \\\n",
    "    train_test_split(features, target, random_state = 420)\n",
    "    \n",
    "# create dummy regressor, fit and get R-square score\n",
    "dummy = DummyRegressor(strategy = 'mean')\n",
    "dummy.fit(features_train, target_train)\n",
    "dummy_score = dummy.score(features_test, target_test)\n",
    "\n",
    "# create model, fit and get R-square score\n",
    "lin_reg = LinearRegression().fit(features_train, target_train)\n",
    "lin_reg_score = lin_reg.score(features_test, target_test)\n",
    "\n",
    "print('dummy R2 : ', dummy_score)\n",
    "print('lin reg R2:', lin_reg_score)\n",
    "\n",
    "# note: the more R-squared is close to 1, the more variacne is \n",
    "# explained by features"
   ]
  },
  {
   "cell_type": "markdown",
   "metadata": {},
   "source": [
    "#### Create a baseline regression model to compare model with using DummyClassifier for classification"
   ]
  },
  {
   "cell_type": "code",
   "execution_count": 509,
   "metadata": {},
   "outputs": [
    {
     "name": "stdout",
     "output_type": "stream",
     "text": [
      "dummy R2 :  0.34210526315789475\n",
      "random forest R2: 1.0\n"
     ]
    }
   ],
   "source": [
    "from sklearn import datasets\n",
    "from sklearn.dummy import DummyClassifier\n",
    "from sklearn.model_selection import train_test_split\n",
    "from sklearn.ensemble import RandomForestClassifier\n",
    "\n",
    "# load data\n",
    "iris = datasets.load_iris()\n",
    "features = iris.data\n",
    "targets= iris.target\n",
    "\n",
    "# split train test set\n",
    "features_train, features_test, targets_train, targets_test = \\\n",
    "train_test_split(features, targets, random_state =420)\n",
    "\n",
    "# create dummy classifier\n",
    "dummy = DummyClassifier(strategy = 'uniform', random_state =420) \n",
    "dummy.fit(features_train, targets_train)\n",
    "dummy_score = dummy.score(features_test, targets_test)\n",
    "\n",
    "# create model\n",
    "random_forest = RandomForestClassifier().fit(\n",
    "    features_train, targets_train)\n",
    "random_forest_score = random_forest.score(features_test, targets_test)\n",
    "\n",
    "# print\n",
    "print('dummy R2 : ', dummy_score)\n",
    "print('random forest R2:', random_forest_score)\n"
   ]
  },
  {
   "cell_type": "markdown",
   "metadata": {},
   "source": [
    "#### Using accuracy with cross_val_score for binary classes"
   ]
  },
  {
   "cell_type": "code",
   "execution_count": 513,
   "metadata": {},
   "outputs": [
    {
     "data": {
      "text/plain": [
       "array([0.94612795, 0.95862069, 0.93952484, 0.93167028, 0.94086022])"
      ]
     },
     "execution_count": 513,
     "metadata": {},
     "output_type": "execute_result"
    }
   ],
   "source": [
    "\n",
    "from sklearn.model_selection import cross_val_score\n",
    "from sklearn.linear_model import LogisticRegression\n",
    "from sklearn.datasets import make_classification\n",
    "\n",
    "# generate features mat and target\n",
    "features, targets = make_classification(n_samples =10000,\n",
    "                                       n_features = 3,\n",
    "                                       n_informative =3,\n",
    "                                       n_redundant =0,\n",
    "                                       n_classes =2,\n",
    "                                       random_state = 420)\n",
    "# create model\n",
    "model = LogisticRegression()\n",
    "\n",
    "# measure model accuracy: (TP + TN) / (TP+TN+FP+FN)\n",
    "cross_val_score(model, features, targets, scoring='accuracy')\n",
    "# measure precision: TP/ (TP+FP)\n",
    "cross_val_score(model, features, targets, scoring='precision')\n",
    "# measure recall: TP / (TP+FN)\n",
    "cross_val_score(model, features, targets, scoring='recall')\n",
    "# measure f1: 2 x (precision x recall) / (precision + recall)\n",
    "# balance between recall and precision\n",
    "cross_val_score(model, features, targets, scoring='f1')"
   ]
  },
  {
   "cell_type": "markdown",
   "metadata": {},
   "source": [
    "#### Using accuracy with training and testing set"
   ]
  },
  {
   "cell_type": "code",
   "execution_count": 514,
   "metadata": {},
   "outputs": [
    {
     "data": {
      "text/plain": [
       "0.902"
      ]
     },
     "execution_count": 514,
     "metadata": {},
     "output_type": "execute_result"
    }
   ],
   "source": [
    "# with train ing and testing set\n",
    "from sklearn.model_selection import train_test_split\n",
    "from sklearn.metrics import accuracy_score\n",
    "\n",
    "# create train test ds\n",
    "features_train, features_test, targets_train, targets_test = \\\n",
    "    train_test_split(features, targets, test_size = 0.1,\n",
    "                     random_state = 420)\n",
    "\n",
    "# predict values\n",
    "model = LogisticRegression().fit(features_train, targets_train)\n",
    "predictions = model.predict(features_test)\n",
    "\n",
    "# get score\n",
    "accuracy_score(targets_test, predictions)\n"
   ]
  },
  {
   "cell_type": "markdown",
   "metadata": {},
   "source": [
    "#### Evaluating Multiclass Classifier Predictions for 3+ classes using cross_val_score"
   ]
  },
  {
   "cell_type": "code",
   "execution_count": null,
   "metadata": {},
   "outputs": [],
   "source": [
    "from sklearn.model_selection import cross_val_score\n",
    "from sklearn.linear_model import LogisticRegression\n",
    "from sklearn.datasets import make_classification\n",
    "\n",
    "# generate data\n",
    "features, targets = make_classification(n_samples = 10000,\n",
    "                                       n_classes = 3, \n",
    "                                       n_informative = 3,\n",
    "                                       n_redundant = 0,\n",
    "                                       random_state = 420)\n",
    "\n",
    "# create model\n",
    "model = LogisticRegression()\n",
    "\n",
    "# Cross-validate model using macro averaged F1 score\n",
    "cross_val_score(model, features, targets, scoring='f1_macro')\n",
    "cross_val_score(model, features, targets, scoring='f1_micro')\n",
    "cross_val_score(model, features, targets, scoring='f1_weighted')"
   ]
  },
  {
   "cell_type": "markdown",
   "metadata": {},
   "source": [
    "#### Using Roc and AUC"
   ]
  },
  {
   "cell_type": "code",
   "execution_count": 532,
   "metadata": {},
   "outputs": [
    {
     "data": {
      "image/png": "[encoded data removed]",
      "text/plain": [
       "<Figure size 432x288 with 1 Axes>"
      ]
     },
     "metadata": {
      "needs_background": "light"
     },
     "output_type": "display_data"
    },
    {
     "name": "stdout",
     "output_type": "stream",
     "text": [
      "Threshold: 0.07194459250677938\n",
      "True Positive Rate: 0.9644268774703557\n",
      "False Positive Rate: 0.6538461538461539\n"
     ]
    },
    {
     "data": {
      "text/plain": [
       "0.9425037205357574"
      ]
     },
     "execution_count": 532,
     "metadata": {},
     "output_type": "execute_result"
    }
   ],
   "source": [
    "import matplotlib.pyplot as plt\n",
    "from sklearn.datasets import make_classification\n",
    "from sklearn.linear_model import LogisticRegression\n",
    "from sklearn.metrics import roc_curve, roc_auc_score\n",
    "from sklearn.model_selection import train_test_split\n",
    "\n",
    "# generate data\n",
    "features, targets = make_classification (n_samples = 10000,\n",
    "                                        n_features =10,\n",
    "                                        n_classes = 2,\n",
    "                                        n_informative = 3,\n",
    "                                        random_state = 420)\n",
    "\n",
    "# split data into train and test set\n",
    "features_train, features_test, targets_train, targets_test =\\\n",
    "    train_test_split(features, targets, test_size =0.1, \n",
    "                     random_state =420)\n",
    "\n",
    "# make model\n",
    "model = LogisticRegression().fit(features_train , targets_train)\n",
    "\n",
    "# predict probabilities\n",
    "predictions_prob = model.predict_proba(features_test)[:,1]\n",
    "\n",
    "# create roc\n",
    "false_positive_rate, true_positive_rate, threshold = \\\n",
    "    roc_curve(targets_test, predictions_prob)\n",
    "\n",
    "# plot ROC curve\n",
    "plt.title('ROC')\n",
    "plt.plot(false_positive_rate, true_positive_rate)\n",
    "plt.plot(false_positive_rate, true_positive_rate)\n",
    "plt.plot([0, 1], ls=\"--\")\n",
    "plt.plot([0, 0], [1, 0] , c=\".7\"), plt.plot([1, 1] , c=\".7\")\n",
    "plt.ylabel(\"True Positive Rate\")\n",
    "plt.xlabel(\"False Positive Rate\")\n",
    "plt.show()\n",
    "\n",
    "# view tradeoff\n",
    "print(\"Threshold:\", threshold[116])\n",
    "print(\"True Positive Rate:\", true_positive_rate[116])\n",
    "print(\"False Positive Rate:\", false_positive_rate[116])\n",
    "\n",
    "# calculate auc\n",
    "roc_auc_score(targets_test, predictions_prob)\n",
    "\n",
    "# roc show bias variance tradeoff"
   ]
  },
  {
   "cell_type": "markdown",
   "metadata": {},
   "source": [
    "#### VIsualize Classifier Performance with Confusion Matrix "
   ]
  },
  {
   "cell_type": "code",
   "execution_count": 541,
   "metadata": {
    "scrolled": true
   },
   "outputs": [
    {
     "data": {
      "image/png": "[encoded data removed]",
      "text/plain": [
       "<Figure size 432x288 with 1 Axes>"
      ]
     },
     "metadata": {
      "needs_background": "light"
     },
     "output_type": "display_data"
    }
   ],
   "source": [
    "import matplotlib.pyplot as plt\n",
    "import seaborn as sns\n",
    "from sklearn.datasets import load_iris\n",
    "from sklearn.linear_model import LogisticRegression\n",
    "from sklearn.model_selection import train_test_split\n",
    "from sklearn.metrics import confusion_matrix\n",
    "import pandas as pd\n",
    "\n",
    "# load data\n",
    "iris = load_iris()\n",
    "features = iris.data\n",
    "targets = iris.target\n",
    "\n",
    "# get target classes names\n",
    "target_class_names = iris.target_names\n",
    "\n",
    "# split train and test set\n",
    "features_train, features_test, targets_train, targets_test = \\\n",
    "    train_test_split(features, targets, random_state = 420)\n",
    "\n",
    "# Create model\n",
    "classifier = LogisticRegression().fit(features_train, targets_train)\n",
    "\n",
    "# get predictions\n",
    "predictions = classifier.predict(features_test)\n",
    "\n",
    "# create confusion matrix\n",
    "confusion_mat = confusion_matrix(targets_test, predictions)\n",
    "confusion_mat = pd.DataFrame(confusion_mat,\n",
    "                             index = target_class_names,\n",
    "                            columns = target_class_names)\n",
    "\n",
    "# plot confusion matrix as heat map\n",
    "sns.heatmap(confusion_mat, annot=True, cbar=None, cmap='Blues')\n",
    "plt.title(\"Confusion Matrix\")\n",
    "plt.ylabel(\"True Class\"), plt.xlabel(\"Predicted Class\")\n",
    "plt.show()\n",
    "\n",
    "# confusion matrices are easy to interpret and we can see what \n",
    "# classes it has difficulty to predict so we can optimize "
   ]
  },
  {
   "cell_type": "markdown",
   "metadata": {},
   "source": [
    "#### Evaluating Regression Models using MSE"
   ]
  },
  {
   "cell_type": "code",
   "execution_count": 546,
   "metadata": {},
   "outputs": [
    {
     "data": {
      "text/plain": [
       "array([0.79593536, 0.83818649, 0.79793638, 0.79916458, 0.80929937])"
      ]
     },
     "execution_count": 546,
     "metadata": {},
     "output_type": "execute_result"
    }
   ],
   "source": [
    "from sklearn.datasets import make_regression\n",
    "from sklearn.linear_model import LinearRegression\n",
    "from sklearn.model_selection import cross_val_score\n",
    "\n",
    "# generate values\n",
    "features, targets = make_regression(n_samples = 1000,\n",
    "                                   n_features = 3,\n",
    "                                   n_informative = 3,\n",
    "                                   random_state = 420,\n",
    "                                   coef = False,\n",
    "                                   noise = 50,\n",
    "                                   n_targets = 1)\n",
    "\n",
    "# make model\n",
    "lin_reg = LinearRegression()\n",
    "\n",
    "# view score\n",
    "cross_val_score(lin_reg, features, targets, \n",
    "                scoring = 'neg_mean_squared_error')\n",
    "cross_val_score(lin_reg, features, targets, scoring = 'r2') # rsquared\n",
    "\n"
   ]
  },
  {
   "cell_type": "markdown",
   "metadata": {},
   "source": [
    "#### Evaluating Clustering Models with silouhette_score"
   ]
  },
  {
   "cell_type": "code",
   "execution_count": 549,
   "metadata": {},
   "outputs": [
    {
     "data": {
      "text/plain": [
       "0.8916265564072142"
      ]
     },
     "execution_count": 549,
     "metadata": {},
     "output_type": "execute_result"
    }
   ],
   "source": [
    "import numpy as np\n",
    "from sklearn.metrics import silhouette_score\n",
    "from sklearn.datasets import make_blobs\n",
    "from sklearn.cluster import KMeans\n",
    "\n",
    "# generate data\n",
    "features, _ = make_blobs(n_samples = 1000,\n",
    "                        n_features = 10,\n",
    "                        centers = 2,\n",
    "                        cluster_std = 0.5,\n",
    "                        shuffle = True,\n",
    "                        random_state =1)\n",
    "\n",
    "# cluster data\n",
    "cluster = KMeans(n_clusters =2 , random_state =420) \\\n",
    "    .fit(features)\n",
    "\n",
    "# get predicted classes\n",
    "target_predicted = cluster.labels_\n",
    "\n",
    "# evaluate model \n",
    "silhouette_score(features, target_predicted)\n"
   ]
  },
  {
   "cell_type": "markdown",
   "metadata": {},
   "source": [
    "#### Create Custom Evaluation Metric"
   ]
  },
  {
   "cell_type": "code",
   "execution_count": 559,
   "metadata": {},
   "outputs": [
    {
     "data": {
      "text/plain": [
       "0.9999987100532746"
      ]
     },
     "execution_count": 559,
     "metadata": {},
     "output_type": "execute_result"
    }
   ],
   "source": [
    "from sklearn.metrics import make_scorer, r2_score\n",
    "from sklearn.model_selection import train_test_split\n",
    "from sklearn.linear_model import Ridge\n",
    "from sklearn.datasets import make_regression\n",
    "\n",
    "# generate data\n",
    "features, targets = make_regression(n_samples =1000,\n",
    "                                   n_features = 3,\n",
    "                                   random_state = 420)\n",
    "\n",
    "# split into train and test\n",
    "features_train, features_test, targets_train, targets_test =\\\n",
    "    train_test_split(features, targets, random_state = 420,\n",
    "                    test_size = 0.1)\n",
    "\n",
    "\n",
    "# create custom metrics\n",
    "def custom_metric(target_test, target_predicted):\n",
    "    # calculate r squared\n",
    "    return r2_score(target_test, target_predicted)\n",
    "    \n",
    "# define score\n",
    "cust_score = make_scorer(custom_metric, greater_is_better= True)\n",
    "\n",
    "# create model\n",
    "model = Ridge().fit(features_train, targets_train)\n",
    "\n",
    "# make predictions\n",
    "predictions = model.predict(features_test)\n",
    "\n",
    "# apply custom score \n",
    "cust_score(model, features_test, targets_test)"
   ]
  },
  {
   "cell_type": "markdown",
   "metadata": {},
   "source": [
    "#### Visualize the Learning Curve"
   ]
  },
  {
   "cell_type": "code",
   "execution_count": 563,
   "metadata": {},
   "outputs": [
    {
     "data": {
      "image/png": "[encoded data removed]",
      "text/plain": [
       "<Figure size 432x288 with 1 Axes>"
      ]
     },
     "metadata": {
      "needs_background": "light"
     },
     "output_type": "display_data"
    }
   ],
   "source": [
    "import numpy as np\n",
    "import matplotlib.pyplot as plt\n",
    "from sklearn.ensemble import RandomForestClassifier\n",
    "from sklearn.datasets import load_digits\n",
    "from sklearn.model_selection import learning_curve\n",
    "\n",
    "# load data\n",
    "digits = load_digits()\n",
    "features =digits.data\n",
    "targets = digits.target\n",
    "\n",
    "# create learning curve\n",
    "train_sizes, train_scores, test_scores = \\\n",
    "    learning_curve(RandomForestClassifier(),\n",
    "                  features, \n",
    "                  targets, \n",
    "                  cv=10,\n",
    "                  scoring = 'accuracy',\n",
    "                  n_jobs = -1,\n",
    "                  train_sizes=np.linspace(0.01,1.0,50))\n",
    "\n",
    "# get mean and std\n",
    "train_mean = np.mean(train_scores, axis= 1)\n",
    "train_std = np.std(train_scores, axis=1)\n",
    "\n",
    "test_mean = np.mean(test_scores, axis=1)\n",
    "test_std = np.std(test_scores, axis =1)\n",
    "\n",
    "# create plot\n",
    "plt.plot(train_sizes, train_mean, '--', color=\"#111111\",\n",
    "         label=\"Training score\")\n",
    "plt.plot(train_sizes, test_mean, color=\"#111111\",\n",
    "         label=\"Cross-validation score\")\n",
    "plt.fill_between(train_sizes, train_mean - train_std,\n",
    " train_mean + train_std, color=\"#DDDDDD\")\n",
    "plt.fill_between(train_sizes, test_mean - test_std,\n",
    " test_mean + test_std, color=\"#DDDDDD\")\n",
    "\n",
    "plt.title(\"Learning Curve\")\n",
    "plt.xlabel(\"Training Set Size\"), plt.ylabel(\"Accuracy Score\"),\n",
    "plt.legend(loc=\"best\")\n",
    "plt.tight_layout()\n",
    "plt.show()"
   ]
  },
  {
   "cell_type": "markdown",
   "metadata": {},
   "source": [
    "#### Create Text Report of evaluation metrics with classficiation_report"
   ]
  },
  {
   "cell_type": "code",
   "execution_count": 574,
   "metadata": {},
   "outputs": [
    {
     "name": "stdout",
     "output_type": "stream",
     "text": [
      "              precision    recall  f1-score   support\n",
      "\n",
      "      setosa       1.00      1.00      1.00        15\n",
      "  versicolor       1.00      1.00      1.00        14\n",
      "   virginica       1.00      1.00      1.00         9\n",
      "\n",
      "    accuracy                           1.00        38\n",
      "   macro avg       1.00      1.00      1.00        38\n",
      "weighted avg       1.00      1.00      1.00        38\n",
      "\n"
     ]
    }
   ],
   "source": [
    "from sklearn import datasets\n",
    "from sklearn.linear_model import LogisticRegression\n",
    "from sklearn.model_selection import train_test_split\n",
    "from sklearn.metrics import classification_report\n",
    "\n",
    "# load data\n",
    "iris = datasets.load_iris()\n",
    "features = iris.data\n",
    "targets= iris.target\n",
    "\n",
    "# get target class names\n",
    "target_class_names  = iris.target_names\n",
    "\n",
    "# split into train and test\n",
    "features_train, features_test, targets_train, targets_test =\\\n",
    "    train_test_split(features, targets, random_state = 420)\n",
    "\n",
    "# create model\n",
    "model = LogisticRegression().fit(features_train, \n",
    "                                      targets_train)\n",
    "\n",
    "# preditc\n",
    "predictions = model.predict(features_test)\n",
    "\n",
    "\n",
    "# make classification report\n",
    "print(classification_report(targets_test, predictions, \n",
    "                     target_names = target_class_names))"
   ]
  },
  {
   "cell_type": "markdown",
   "metadata": {},
   "source": [
    "#### Visualize effect of Hyperparameter Values: understanding how model performance change with different hyperparameters\n"
   ]
  },
  {
   "cell_type": "code",
   "execution_count": 580,
   "metadata": {},
   "outputs": [
    {
     "data": {
      "image/png": "[encoded data removed]",
      "text/plain": [
       "<Figure size 432x288 with 1 Axes>"
      ]
     },
     "metadata": {
      "needs_background": "light"
     },
     "output_type": "display_data"
    }
   ],
   "source": [
    "import matplotlib.pyplot as plt\n",
    "import numpy as np\n",
    "from sklearn.datasets import load_digits\n",
    "from sklearn.ensemble import RandomForestClassifier\n",
    "from sklearn.model_selection import validation_curve\n",
    "\n",
    "# load data \n",
    "digits = load_digits()\n",
    "features = digits.data\n",
    "targets = digits.target\n",
    "\n",
    "# create range of values for hyperparameters\n",
    "param_range = np.arange(1, 250,2) # generate all values by 2\n",
    "\n",
    "# calculate accuracy on training and test using different param\n",
    "train_scores, test_scores = validation_curve(\n",
    "    RandomForestClassifier(),\n",
    "    features,\n",
    "    targets, \n",
    "    param_name = 'n_estimators',\n",
    "    param_range = param_range,\n",
    "    cv=3,\n",
    "    scoring = 'accuracy',\n",
    "    n_jobs=-1)\n",
    "\n",
    "# Calculate mean and standard deviation \n",
    "train_mean = np.mean(train_scores, axis=1)\n",
    "train_std = np.std(train_scores, axis=1)\n",
    "\n",
    "test_mean = np.mean(test_scores, axis=1)\n",
    "test_std = np.std(test_scores, axis=1)\n",
    "\n",
    "# Plot mean accuracy scores for training and test sets\n",
    "plt.plot(param_range, train_mean, label=\"Training score\", color=\"black\")\n",
    "plt.plot(param_range, test_mean, label=\"Cross-validation score\", color=\"dimgrey\")\n",
    "# Plot accurancy bands for training and test sets\n",
    "plt.fill_between(param_range, train_mean - train_std,\n",
    " train_mean + train_std, color=\"gray\")\n",
    "plt.fill_between(param_range, test_mean - test_std,\n",
    " test_mean + test_std, color=\"gainsboro\")\n",
    "# Create plot\n",
    "plt.title(\"Validation Curve With Random Forest\")\n",
    "plt.xlabel(\"Number Of Trees\")\n",
    "plt.ylabel(\"Accuracy Score\")\n",
    "plt.tight_layout()\n",
    "plt.legend(loc=\"best\")\n",
    "plt.show()"
   ]
  }
 ],
 "metadata": {
  "kernelspec": {
   "display_name": "Python 3",
   "language": "python",
   "name": "python3"
  },
  "language_info": {
   "codemirror_mode": {
    "name": "ipython",
    "version": 3
   },
   "file_extension": ".py",
   "mimetype": "text/x-python",
   "name": "python",
   "nbconvert_exporter": "python",
   "pygments_lexer": "ipython3",
   "version": "3.7.7"
  }
 },
 "nbformat": 4,
 "nbformat_minor": 4
}
