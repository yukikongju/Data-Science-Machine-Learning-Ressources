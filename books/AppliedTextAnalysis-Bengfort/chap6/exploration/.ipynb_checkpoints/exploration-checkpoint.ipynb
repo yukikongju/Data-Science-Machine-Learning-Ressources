{
 "cells": [
  {
   "cell_type": "code",
   "execution_count": 1,
   "id": "cf50b2f3",
   "metadata": {},
   "outputs": [],
   "source": [
    "import pandas as pd"
   ]
  },
  {
   "cell_type": "code",
   "execution_count": 3,
   "id": "c82d4fcc",
   "metadata": {},
   "outputs": [],
   "source": [
    "data = pd.read_csv('../data/headlines.csv')"
   ]
  },
  {
   "cell_type": "code",
   "execution_count": 7,
   "id": "248285c3",
   "metadata": {},
   "outputs": [],
   "source": [
    "tmp = data[:2000]\n",
    "tmp.to_csv('../data/headlines_subset.csv')"
   ]
  },
  {
   "cell_type": "code",
   "execution_count": null,
   "id": "9b896be0",
   "metadata": {},
   "outputs": [],
   "source": []
  },
  {
   "cell_type": "code",
   "execution_count": null,
   "id": "4b9bed10",
   "metadata": {},
   "outputs": [],
   "source": []
  }
 ],
 "metadata": {
  "kernelspec": {
   "display_name": "Python 3 (ipykernel)",
   "language": "python",
   "name": "python3"
  },
  "language_info": {
   "codemirror_mode": {
    "name": "ipython",
    "version": 3
   },
   "file_extension": ".py",
   "mimetype": "text/x-python",
   "name": "python",
   "nbconvert_exporter": "python",
   "pygments_lexer": "ipython3",
   "version": "3.8.10"
  }
 },
 "nbformat": 4,
 "nbformat_minor": 5
}
