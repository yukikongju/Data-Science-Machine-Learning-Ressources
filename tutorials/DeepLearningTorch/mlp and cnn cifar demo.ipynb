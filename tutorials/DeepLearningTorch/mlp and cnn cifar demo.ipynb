{
 "cells": [
  {
   "cell_type": "markdown",
   "id": "58bb46b7",
   "metadata": {},
   "source": [
    "# 1. Importing the librairies"
   ]
  },
  {
   "cell_type": "code",
   "execution_count": 60,
   "id": "6bef5008",
   "metadata": {},
   "outputs": [],
   "source": [
    "import torch\n",
    "import torch.nn as nn\n",
    "import torch.optim as optim\n",
    "import torchvision\n",
    "import torchvision.transforms as transforms\n",
    "import torchvision.datasets as datasets\n",
    "import torch.utils.data as data\n",
    "import matplotlib.pyplot as plt\n",
    "import numpy as np\n",
    "\n",
    "from torch.utils.data import Subset\n"
   ]
  },
  {
   "cell_type": "code",
   "execution_count": 55,
   "id": "144e2d8f",
   "metadata": {},
   "outputs": [],
   "source": [
    "# setting the hyperparameters\n",
    "num_epochs = 100\n",
    "batch_size = 32\n",
    "learning_rate = 0.001"
   ]
  },
  {
   "cell_type": "code",
   "execution_count": null,
   "id": "0cd90c23",
   "metadata": {},
   "outputs": [],
   "source": []
  },
  {
   "cell_type": "markdown",
   "id": "0e948b06",
   "metadata": {},
   "source": [
    "# 2. Loading the dataset: CIFAR-10 \n",
    "\n",
    "we will see later how to load custom dataset"
   ]
  },
  {
   "cell_type": "code",
   "execution_count": 15,
   "id": "92a3bed2",
   "metadata": {},
   "outputs": [
    {
     "name": "stdout",
     "output_type": "stream",
     "text": [
      "Files already downloaded and verified\n",
      "Files already downloaded and verified\n"
     ]
    }
   ],
   "source": [
    "# loading the data\n",
    "transform = transforms.Compose(\n",
    "    [transforms.ToTensor(),\n",
    "     transforms.Normalize((0.5, 0.5, 0.5), (0.5, 0.5, 0.5))])\n",
    "\n",
    "\n",
    "trainset = datasets.CIFAR10(root='./data', train=True, download=True, transform=transform)\n",
    "testset = datasets.CIFAR10(root='./data', train=False, download=True, transform=transform)"
   ]
  },
  {
   "cell_type": "code",
   "execution_count": 16,
   "id": "056f056d",
   "metadata": {},
   "outputs": [],
   "source": [
    "# using only a subset of the data\n",
    "trainset = Subset(trainset, range(4000))\n",
    "testset = Subset(testset, range(4000))"
   ]
  },
  {
   "cell_type": "markdown",
   "id": "032f27b8",
   "metadata": {},
   "source": [
    "# 3. Creating the dataloaders"
   ]
  },
  {
   "cell_type": "code",
   "execution_count": null,
   "id": "315a6562",
   "metadata": {},
   "outputs": [],
   "source": []
  },
  {
   "cell_type": "code",
   "execution_count": 17,
   "id": "71f17aff",
   "metadata": {},
   "outputs": [],
   "source": [
    "trainloader = data.DataLoader(trainset, batch_size=batch_size, shuffle=True)\n",
    "testloader = data.DataLoader(testset, batch_size=batch_size, shuffle=False)"
   ]
  },
  {
   "cell_type": "markdown",
   "id": "3f6d8f94",
   "metadata": {},
   "source": [
    "# 4. Creating the models: MLP and CNN\n"
   ]
  },
  {
   "cell_type": "code",
   "execution_count": 10,
   "id": "c5a298b7",
   "metadata": {},
   "outputs": [],
   "source": [
    "class CNN(nn.Module):\n",
    "    def __init__(self):\n",
    "        super(CNN, self).__init__()\n",
    "        self.conv1 = nn.Conv2d(3, 16, 3, padding=1)\n",
    "        self.pool = nn.MaxPool2d(2, 2)\n",
    "        self.conv2 = nn.Conv2d(16, 32, 3, padding=1)\n",
    "        self.fc1 = nn.Linear(32 * 8 * 8, 256)\n",
    "        self.fc2 = nn.Linear(256, 10)\n",
    "\n",
    "    def forward(self, x):\n",
    "        x = self.pool(nn.functional.relu(self.conv1(x)))\n",
    "        x = self.pool(nn.functional.relu(self.conv2(x)))\n",
    "        x = x.view(-1, 32 * 8 * 8)\n",
    "        x = nn.functional.relu(self.fc1(x))\n",
    "        x = self.fc2(x)\n",
    "        return x\n"
   ]
  },
  {
   "cell_type": "code",
   "execution_count": 11,
   "id": "d7f0e9eb",
   "metadata": {},
   "outputs": [],
   "source": [
    "\n",
    "class MLP(nn.Module):\n",
    "    def __init__(self):\n",
    "        super(MLP, self).__init__()\n",
    "        self.fc1 = nn.Linear(32 * 32 * 3, 512)\n",
    "        self.fc2 = nn.Linear(512, 256)\n",
    "        self.fc3 = nn.Linear(256, 10)\n",
    "\n",
    "    def forward(self, x):\n",
    "        x = x.view(-1, 32 * 32 * 3)\n",
    "        x = nn.functional.relu(self.fc1(x))\n",
    "        x = nn.functional.relu(self.fc2(x))\n",
    "        x = self.fc3(x)\n",
    "        return x"
   ]
  },
  {
   "cell_type": "markdown",
   "id": "5bce5eb3",
   "metadata": {},
   "source": [
    "# 5. Training and testing the models "
   ]
  },
  {
   "cell_type": "code",
   "execution_count": 48,
   "id": "bc95f564",
   "metadata": {},
   "outputs": [],
   "source": [
    "def train_and_test(model, train_loader, test_loader, criterion, optimizer, epochs):\n",
    "    training_accuracy, testing_accuracy = [], []\n",
    "    \n",
    "    for epoch in range(epochs):\n",
    "        \n",
    "        # training the model\n",
    "        running_loss = 0.0\n",
    "        correct, total = 0, 0\n",
    "        for i, (inputs, labels) in enumerate(train_loader, 0):\n",
    "            optimizer.zero_grad()\n",
    "\n",
    "            outputs = model(inputs)\n",
    "            _, predicted = torch.max(outputs.data, 1)\n",
    "            total += labels.size(0)\n",
    "            correct += (predicted == labels).sum().item()\n",
    "            loss = criterion(outputs, labels)\n",
    "            loss.backward()\n",
    "            optimizer.step()\n",
    "\n",
    "            running_loss += loss.item()\n",
    "        \n",
    "        training_acc = correct / total\n",
    "        training_accuracy.append(training_acc)\n",
    "\n",
    "\n",
    "        # Test the model\n",
    "        correct, total = 0, 0\n",
    "        with torch.no_grad():\n",
    "            for data in test_loader:\n",
    "                images, labels = data\n",
    "                outputs = model(images)\n",
    "                _, predicted = torch.max(outputs.data, 1)\n",
    "                total += labels.size(0)\n",
    "                correct += (predicted == labels).sum().item()\n",
    "\n",
    "        \n",
    "        testing_acc = correct / total\n",
    "        testing_accuracy.append(testing_acc)\n",
    "    \n",
    "        print(f'Epoch {epoch}: training loss: {running_loss:.2f}; training accuracy: {training_acc:.2f}; test accuracy: {(100 * testing_acc):.2f}%')\n",
    "        \n",
    "    \n",
    "    return training_accuracy, testing_accuracy "
   ]
  },
  {
   "cell_type": "code",
   "execution_count": null,
   "id": "fc213202",
   "metadata": {},
   "outputs": [],
   "source": []
  },
  {
   "cell_type": "code",
   "execution_count": 49,
   "id": "7d69b367",
   "metadata": {},
   "outputs": [],
   "source": []
  },
  {
   "cell_type": "code",
   "execution_count": 52,
   "id": "a13ce033",
   "metadata": {},
   "outputs": [
    {
     "name": "stdout",
     "output_type": "stream",
     "text": [
      "Epoch 0: training loss: 286.34; training accuracy: 0.16; test accuracy: 16.18%\n",
      "Epoch 1: training loss: 280.97; training accuracy: 0.18; test accuracy: 19.57%\n",
      "Epoch 2: training loss: 266.96; training accuracy: 0.25; test accuracy: 27.18%\n",
      "Epoch 3: training loss: 251.66; training accuracy: 0.29; test accuracy: 31.82%\n",
      "Epoch 4: training loss: 240.43; training accuracy: 0.33; test accuracy: 30.80%\n",
      "Epoch 5: training loss: 231.33; training accuracy: 0.34; test accuracy: 35.05%\n",
      "Epoch 6: training loss: 224.02; training accuracy: 0.36; test accuracy: 36.95%\n",
      "Epoch 7: training loss: 217.39; training accuracy: 0.39; test accuracy: 36.68%\n",
      "Epoch 8: training loss: 211.15; training accuracy: 0.40; test accuracy: 40.08%\n",
      "Epoch 9: training loss: 205.19; training accuracy: 0.41; test accuracy: 39.85%\n",
      "Epoch 10: training loss: 199.82; training accuracy: 0.43; test accuracy: 41.45%\n",
      "Epoch 11: training loss: 194.67; training accuracy: 0.44; test accuracy: 41.65%\n",
      "Epoch 12: training loss: 189.83; training accuracy: 0.46; test accuracy: 42.50%\n",
      "Epoch 13: training loss: 185.75; training accuracy: 0.47; test accuracy: 42.10%\n",
      "Epoch 14: training loss: 181.50; training accuracy: 0.47; test accuracy: 44.95%\n",
      "Epoch 15: training loss: 175.78; training accuracy: 0.50; test accuracy: 45.70%\n",
      "Epoch 16: training loss: 171.60; training accuracy: 0.50; test accuracy: 46.38%\n",
      "Epoch 17: training loss: 168.88; training accuracy: 0.52; test accuracy: 45.42%\n",
      "Epoch 18: training loss: 164.06; training accuracy: 0.53; test accuracy: 46.50%\n",
      "Epoch 19: training loss: 159.38; training accuracy: 0.55; test accuracy: 47.10%\n",
      "Epoch 20: training loss: 156.23; training accuracy: 0.55; test accuracy: 48.93%\n",
      "Epoch 21: training loss: 151.37; training accuracy: 0.57; test accuracy: 49.73%\n",
      "Epoch 22: training loss: 146.23; training accuracy: 0.59; test accuracy: 47.65%\n",
      "Epoch 23: training loss: 144.05; training accuracy: 0.60; test accuracy: 49.85%\n",
      "Epoch 24: training loss: 137.99; training accuracy: 0.62; test accuracy: 49.98%\n",
      "Epoch 25: training loss: 136.76; training accuracy: 0.61; test accuracy: 49.38%\n",
      "Epoch 26: training loss: 131.99; training accuracy: 0.62; test accuracy: 50.60%\n",
      "Epoch 27: training loss: 128.48; training accuracy: 0.63; test accuracy: 49.02%\n",
      "Epoch 28: training loss: 123.41; training accuracy: 0.66; test accuracy: 51.45%\n",
      "Epoch 29: training loss: 118.87; training accuracy: 0.66; test accuracy: 50.32%\n",
      "Epoch 30: training loss: 114.46; training accuracy: 0.69; test accuracy: 50.90%\n",
      "Epoch 31: training loss: 108.72; training accuracy: 0.70; test accuracy: 50.32%\n",
      "Epoch 32: training loss: 104.71; training accuracy: 0.71; test accuracy: 50.58%\n",
      "Epoch 33: training loss: 102.65; training accuracy: 0.71; test accuracy: 50.48%\n",
      "Epoch 34: training loss: 95.03; training accuracy: 0.74; test accuracy: 52.35%\n",
      "Epoch 35: training loss: 91.99; training accuracy: 0.75; test accuracy: 52.68%\n",
      "Epoch 36: training loss: 87.40; training accuracy: 0.77; test accuracy: 50.75%\n",
      "Epoch 37: training loss: 81.37; training accuracy: 0.78; test accuracy: 50.52%\n",
      "Epoch 38: training loss: 78.22; training accuracy: 0.79; test accuracy: 52.20%\n",
      "Epoch 39: training loss: 71.53; training accuracy: 0.81; test accuracy: 52.33%\n",
      "Epoch 40: training loss: 66.72; training accuracy: 0.83; test accuracy: 52.25%\n",
      "Epoch 41: training loss: 61.69; training accuracy: 0.84; test accuracy: 52.33%\n",
      "Epoch 42: training loss: 57.32; training accuracy: 0.85; test accuracy: 53.30%\n",
      "Epoch 43: training loss: 50.21; training accuracy: 0.88; test accuracy: 50.80%\n",
      "Epoch 44: training loss: 48.21; training accuracy: 0.88; test accuracy: 51.35%\n",
      "Epoch 45: training loss: 42.69; training accuracy: 0.90; test accuracy: 51.10%\n",
      "Epoch 46: training loss: 38.61; training accuracy: 0.91; test accuracy: 51.15%\n",
      "Epoch 47: training loss: 35.69; training accuracy: 0.92; test accuracy: 51.42%\n",
      "Epoch 48: training loss: 31.75; training accuracy: 0.93; test accuracy: 52.12%\n",
      "Epoch 49: training loss: 28.60; training accuracy: 0.94; test accuracy: 51.23%\n",
      "Epoch 50: training loss: 23.09; training accuracy: 0.96; test accuracy: 52.88%\n",
      "Epoch 51: training loss: 20.97; training accuracy: 0.97; test accuracy: 52.25%\n",
      "Epoch 52: training loss: 19.50; training accuracy: 0.97; test accuracy: 52.70%\n",
      "Epoch 53: training loss: 16.08; training accuracy: 0.98; test accuracy: 52.42%\n",
      "Epoch 54: training loss: 14.18; training accuracy: 0.98; test accuracy: 51.25%\n",
      "Epoch 55: training loss: 11.09; training accuracy: 0.99; test accuracy: 51.90%\n",
      "Epoch 56: training loss: 12.29; training accuracy: 0.98; test accuracy: 51.15%\n",
      "Epoch 57: training loss: 10.30; training accuracy: 0.99; test accuracy: 51.73%\n",
      "Epoch 58: training loss: 7.31; training accuracy: 1.00; test accuracy: 52.08%\n",
      "Epoch 59: training loss: 5.63; training accuracy: 1.00; test accuracy: 52.48%\n",
      "Epoch 60: training loss: 5.51; training accuracy: 1.00; test accuracy: 51.90%\n",
      "Epoch 61: training loss: 5.47; training accuracy: 1.00; test accuracy: 52.10%\n",
      "Epoch 62: training loss: 3.87; training accuracy: 1.00; test accuracy: 51.98%\n",
      "Epoch 63: training loss: 3.48; training accuracy: 1.00; test accuracy: 51.92%\n",
      "Epoch 64: training loss: 2.86; training accuracy: 1.00; test accuracy: 52.38%\n",
      "Epoch 65: training loss: 2.47; training accuracy: 1.00; test accuracy: 52.52%\n",
      "Epoch 66: training loss: 2.26; training accuracy: 1.00; test accuracy: 52.40%\n",
      "Epoch 67: training loss: 2.00; training accuracy: 1.00; test accuracy: 52.05%\n",
      "Epoch 68: training loss: 1.88; training accuracy: 1.00; test accuracy: 52.42%\n",
      "Epoch 69: training loss: 1.68; training accuracy: 1.00; test accuracy: 52.50%\n",
      "Epoch 70: training loss: 1.58; training accuracy: 1.00; test accuracy: 52.15%\n",
      "Epoch 71: training loss: 1.50; training accuracy: 1.00; test accuracy: 52.60%\n",
      "Epoch 72: training loss: 1.37; training accuracy: 1.00; test accuracy: 52.55%\n",
      "Epoch 73: training loss: 1.26; training accuracy: 1.00; test accuracy: 52.25%\n",
      "Epoch 74: training loss: 1.20; training accuracy: 1.00; test accuracy: 52.18%\n",
      "Epoch 75: training loss: 1.13; training accuracy: 1.00; test accuracy: 52.50%\n",
      "Epoch 76: training loss: 1.06; training accuracy: 1.00; test accuracy: 52.38%\n",
      "Epoch 77: training loss: 1.04; training accuracy: 1.00; test accuracy: 52.42%\n",
      "Epoch 78: training loss: 0.97; training accuracy: 1.00; test accuracy: 51.95%\n",
      "Epoch 79: training loss: 0.94; training accuracy: 1.00; test accuracy: 52.40%\n",
      "Epoch 80: training loss: 0.89; training accuracy: 1.00; test accuracy: 52.45%\n",
      "Epoch 81: training loss: 0.85; training accuracy: 1.00; test accuracy: 52.28%\n",
      "Epoch 82: training loss: 0.80; training accuracy: 1.00; test accuracy: 51.98%\n",
      "Epoch 83: training loss: 0.77; training accuracy: 1.00; test accuracy: 52.23%\n",
      "Epoch 84: training loss: 0.74; training accuracy: 1.00; test accuracy: 52.23%\n",
      "Epoch 85: training loss: 0.71; training accuracy: 1.00; test accuracy: 52.05%\n",
      "Epoch 86: training loss: 0.69; training accuracy: 1.00; test accuracy: 51.95%\n",
      "Epoch 87: training loss: 0.66; training accuracy: 1.00; test accuracy: 52.45%\n",
      "Epoch 88: training loss: 0.64; training accuracy: 1.00; test accuracy: 52.02%\n",
      "Epoch 89: training loss: 0.62; training accuracy: 1.00; test accuracy: 52.45%\n",
      "Epoch 90: training loss: 0.60; training accuracy: 1.00; test accuracy: 52.28%\n",
      "Epoch 91: training loss: 0.58; training accuracy: 1.00; test accuracy: 52.30%\n",
      "Epoch 92: training loss: 0.56; training accuracy: 1.00; test accuracy: 52.05%\n",
      "Epoch 93: training loss: 0.54; training accuracy: 1.00; test accuracy: 52.02%\n",
      "Epoch 94: training loss: 0.52; training accuracy: 1.00; test accuracy: 52.25%\n",
      "Epoch 95: training loss: 0.52; training accuracy: 1.00; test accuracy: 52.10%\n",
      "Epoch 96: training loss: 0.49; training accuracy: 1.00; test accuracy: 52.28%\n",
      "Epoch 97: training loss: 0.48; training accuracy: 1.00; test accuracy: 51.98%\n",
      "Epoch 98: training loss: 0.47; training accuracy: 1.00; test accuracy: 52.38%\n",
      "Epoch 99: training loss: 0.45; training accuracy: 1.00; test accuracy: 52.15%\n"
     ]
    }
   ],
   "source": [
    "cnn = CNN()\n",
    "criterion = nn.CrossEntropyLoss()\n",
    "optimizer = optim.SGD(cnn.parameters(), lr=0.001, momentum=0.9)\n",
    "\n",
    "cnn_training_accuracy, cnn_testing_accuracy = train_and_test(cnn, trainloader, testloader, criterion, optimizer, epochs=num_epochs)"
   ]
  },
  {
   "cell_type": "code",
   "execution_count": 53,
   "id": "ac6f725d",
   "metadata": {},
   "outputs": [
    {
     "name": "stdout",
     "output_type": "stream",
     "text": [
      "Epoch 0: training loss: 282.44; training accuracy: 0.20; test accuracy: 23.12%\n",
      "Epoch 1: training loss: 267.84; training accuracy: 0.26; test accuracy: 26.62%\n",
      "Epoch 2: training loss: 254.66; training accuracy: 0.29; test accuracy: 30.12%\n",
      "Epoch 3: training loss: 243.75; training accuracy: 0.33; test accuracy: 31.87%\n",
      "Epoch 4: training loss: 234.68; training accuracy: 0.35; test accuracy: 34.15%\n",
      "Epoch 5: training loss: 227.04; training accuracy: 0.37; test accuracy: 35.75%\n",
      "Epoch 6: training loss: 220.36; training accuracy: 0.39; test accuracy: 36.88%\n",
      "Epoch 7: training loss: 214.35; training accuracy: 0.41; test accuracy: 37.62%\n",
      "Epoch 8: training loss: 208.90; training accuracy: 0.42; test accuracy: 38.55%\n",
      "Epoch 9: training loss: 204.14; training accuracy: 0.44; test accuracy: 39.30%\n",
      "Epoch 10: training loss: 199.46; training accuracy: 0.45; test accuracy: 40.60%\n",
      "Epoch 11: training loss: 194.70; training accuracy: 0.46; test accuracy: 40.65%\n",
      "Epoch 12: training loss: 190.27; training accuracy: 0.47; test accuracy: 41.73%\n",
      "Epoch 13: training loss: 185.94; training accuracy: 0.49; test accuracy: 41.68%\n",
      "Epoch 14: training loss: 181.72; training accuracy: 0.50; test accuracy: 41.90%\n",
      "Epoch 15: training loss: 177.37; training accuracy: 0.51; test accuracy: 41.88%\n",
      "Epoch 16: training loss: 172.58; training accuracy: 0.53; test accuracy: 42.60%\n",
      "Epoch 17: training loss: 168.35; training accuracy: 0.54; test accuracy: 42.60%\n",
      "Epoch 18: training loss: 163.99; training accuracy: 0.56; test accuracy: 42.90%\n",
      "Epoch 19: training loss: 158.91; training accuracy: 0.57; test accuracy: 43.10%\n",
      "Epoch 20: training loss: 154.29; training accuracy: 0.59; test accuracy: 42.55%\n",
      "Epoch 21: training loss: 149.86; training accuracy: 0.61; test accuracy: 42.20%\n",
      "Epoch 22: training loss: 145.14; training accuracy: 0.62; test accuracy: 43.10%\n",
      "Epoch 23: training loss: 139.65; training accuracy: 0.63; test accuracy: 42.85%\n",
      "Epoch 24: training loss: 135.16; training accuracy: 0.65; test accuracy: 42.68%\n",
      "Epoch 25: training loss: 130.33; training accuracy: 0.66; test accuracy: 43.38%\n",
      "Epoch 26: training loss: 124.86; training accuracy: 0.68; test accuracy: 42.43%\n",
      "Epoch 27: training loss: 120.05; training accuracy: 0.70; test accuracy: 43.00%\n",
      "Epoch 28: training loss: 114.97; training accuracy: 0.72; test accuracy: 42.65%\n",
      "Epoch 29: training loss: 109.23; training accuracy: 0.74; test accuracy: 43.12%\n",
      "Epoch 30: training loss: 104.88; training accuracy: 0.75; test accuracy: 42.50%\n",
      "Epoch 31: training loss: 98.57; training accuracy: 0.77; test accuracy: 43.12%\n",
      "Epoch 32: training loss: 93.07; training accuracy: 0.79; test accuracy: 42.85%\n",
      "Epoch 33: training loss: 88.34; training accuracy: 0.80; test accuracy: 42.58%\n",
      "Epoch 34: training loss: 83.44; training accuracy: 0.82; test accuracy: 42.93%\n",
      "Epoch 35: training loss: 78.28; training accuracy: 0.83; test accuracy: 43.28%\n",
      "Epoch 36: training loss: 72.91; training accuracy: 0.85; test accuracy: 42.35%\n",
      "Epoch 37: training loss: 68.92; training accuracy: 0.86; test accuracy: 41.55%\n",
      "Epoch 38: training loss: 64.56; training accuracy: 0.88; test accuracy: 41.75%\n",
      "Epoch 39: training loss: 60.11; training accuracy: 0.89; test accuracy: 42.43%\n",
      "Epoch 40: training loss: 55.26; training accuracy: 0.90; test accuracy: 42.65%\n",
      "Epoch 41: training loss: 51.71; training accuracy: 0.91; test accuracy: 41.68%\n",
      "Epoch 42: training loss: 48.16; training accuracy: 0.92; test accuracy: 42.05%\n",
      "Epoch 43: training loss: 43.96; training accuracy: 0.93; test accuracy: 41.77%\n",
      "Epoch 44: training loss: 40.43; training accuracy: 0.94; test accuracy: 42.40%\n",
      "Epoch 45: training loss: 38.04; training accuracy: 0.95; test accuracy: 42.30%\n",
      "Epoch 46: training loss: 34.31; training accuracy: 0.96; test accuracy: 41.00%\n",
      "Epoch 47: training loss: 32.26; training accuracy: 0.96; test accuracy: 41.40%\n",
      "Epoch 48: training loss: 29.11; training accuracy: 0.97; test accuracy: 41.80%\n",
      "Epoch 49: training loss: 27.31; training accuracy: 0.97; test accuracy: 42.08%\n",
      "Epoch 50: training loss: 24.70; training accuracy: 0.98; test accuracy: 42.12%\n",
      "Epoch 51: training loss: 22.85; training accuracy: 0.98; test accuracy: 41.50%\n",
      "Epoch 52: training loss: 21.26; training accuracy: 0.98; test accuracy: 41.30%\n",
      "Epoch 53: training loss: 19.15; training accuracy: 0.98; test accuracy: 41.90%\n",
      "Epoch 54: training loss: 17.58; training accuracy: 0.99; test accuracy: 41.80%\n",
      "Epoch 55: training loss: 16.30; training accuracy: 0.99; test accuracy: 42.25%\n",
      "Epoch 56: training loss: 15.63; training accuracy: 0.99; test accuracy: 40.95%\n",
      "Epoch 57: training loss: 14.11; training accuracy: 0.99; test accuracy: 41.52%\n",
      "Epoch 58: training loss: 12.91; training accuracy: 0.99; test accuracy: 42.08%\n",
      "Epoch 59: training loss: 11.92; training accuracy: 0.99; test accuracy: 41.65%\n",
      "Epoch 60: training loss: 10.97; training accuracy: 1.00; test accuracy: 41.25%\n",
      "Epoch 61: training loss: 10.28; training accuracy: 1.00; test accuracy: 41.27%\n",
      "Epoch 62: training loss: 9.51; training accuracy: 1.00; test accuracy: 42.20%\n",
      "Epoch 63: training loss: 8.97; training accuracy: 1.00; test accuracy: 41.77%\n",
      "Epoch 64: training loss: 8.36; training accuracy: 1.00; test accuracy: 41.88%\n",
      "Epoch 65: training loss: 7.83; training accuracy: 1.00; test accuracy: 41.65%\n",
      "Epoch 66: training loss: 7.45; training accuracy: 1.00; test accuracy: 41.33%\n",
      "Epoch 67: training loss: 6.86; training accuracy: 1.00; test accuracy: 42.62%\n",
      "Epoch 68: training loss: 6.52; training accuracy: 1.00; test accuracy: 41.35%\n",
      "Epoch 69: training loss: 6.07; training accuracy: 1.00; test accuracy: 41.77%\n",
      "Epoch 70: training loss: 5.83; training accuracy: 1.00; test accuracy: 41.45%\n",
      "Epoch 71: training loss: 5.50; training accuracy: 1.00; test accuracy: 41.80%\n",
      "Epoch 72: training loss: 5.12; training accuracy: 1.00; test accuracy: 42.20%\n",
      "Epoch 73: training loss: 4.84; training accuracy: 1.00; test accuracy: 41.33%\n",
      "Epoch 74: training loss: 4.63; training accuracy: 1.00; test accuracy: 41.77%\n",
      "Epoch 75: training loss: 4.44; training accuracy: 1.00; test accuracy: 41.70%\n",
      "Epoch 76: training loss: 4.17; training accuracy: 1.00; test accuracy: 41.68%\n",
      "Epoch 77: training loss: 3.99; training accuracy: 1.00; test accuracy: 41.98%\n",
      "Epoch 78: training loss: 3.85; training accuracy: 1.00; test accuracy: 41.80%\n",
      "Epoch 79: training loss: 3.69; training accuracy: 1.00; test accuracy: 41.93%\n",
      "Epoch 80: training loss: 3.55; training accuracy: 1.00; test accuracy: 41.83%\n",
      "Epoch 81: training loss: 3.39; training accuracy: 1.00; test accuracy: 41.93%\n",
      "Epoch 82: training loss: 3.25; training accuracy: 1.00; test accuracy: 41.77%\n",
      "Epoch 83: training loss: 3.11; training accuracy: 1.00; test accuracy: 42.08%\n",
      "Epoch 84: training loss: 2.99; training accuracy: 1.00; test accuracy: 41.93%\n",
      "Epoch 85: training loss: 2.90; training accuracy: 1.00; test accuracy: 42.00%\n",
      "Epoch 86: training loss: 2.81; training accuracy: 1.00; test accuracy: 41.75%\n",
      "Epoch 87: training loss: 2.69; training accuracy: 1.00; test accuracy: 41.33%\n",
      "Epoch 88: training loss: 2.63; training accuracy: 1.00; test accuracy: 42.08%\n",
      "Epoch 89: training loss: 2.52; training accuracy: 1.00; test accuracy: 41.35%\n",
      "Epoch 90: training loss: 2.45; training accuracy: 1.00; test accuracy: 41.80%\n",
      "Epoch 91: training loss: 2.36; training accuracy: 1.00; test accuracy: 41.95%\n",
      "Epoch 92: training loss: 2.34; training accuracy: 1.00; test accuracy: 41.85%\n",
      "Epoch 93: training loss: 2.21; training accuracy: 1.00; test accuracy: 41.83%\n",
      "Epoch 94: training loss: 2.14; training accuracy: 1.00; test accuracy: 41.70%\n",
      "Epoch 95: training loss: 2.10; training accuracy: 1.00; test accuracy: 41.80%\n",
      "Epoch 96: training loss: 2.04; training accuracy: 1.00; test accuracy: 41.83%\n",
      "Epoch 97: training loss: 1.97; training accuracy: 1.00; test accuracy: 41.80%\n",
      "Epoch 98: training loss: 1.91; training accuracy: 1.00; test accuracy: 41.80%\n",
      "Epoch 99: training loss: 1.88; training accuracy: 1.00; test accuracy: 41.95%\n"
     ]
    }
   ],
   "source": [
    "mlp = MLP()\n",
    "criterion = nn.CrossEntropyLoss()\n",
    "optimizer = optim.SGD(mlp.parameters(), lr=0.001, momentum=0.9)\n",
    "\n",
    "mlp_training_accuracy, mlp_testing_accuracy = train_and_test(mlp, trainloader, testloader, criterion, optimizer, epochs=num_epochs)"
   ]
  },
  {
   "cell_type": "code",
   "execution_count": null,
   "id": "b8f41b33",
   "metadata": {},
   "outputs": [],
   "source": []
  },
  {
   "cell_type": "markdown",
   "id": "9fb50260",
   "metadata": {},
   "source": [
    "# 6. Comparing Models Performance"
   ]
  },
  {
   "cell_type": "code",
   "execution_count": 64,
   "id": "5e11f133",
   "metadata": {},
   "outputs": [
    {
     "data": {
      "image/png": "[encoded data removed]",
      "text/plain": [
       "<Figure size 432x288 with 1 Axes>"
      ]
     },
     "metadata": {
      "needs_background": "light"
     },
     "output_type": "display_data"
    },
    {
     "data": {
      "image/png": "[encoded data removed]",
      "text/plain": [
       "<Figure size 432x288 with 1 Axes>"
      ]
     },
     "metadata": {
      "needs_background": "light"
     },
     "output_type": "display_data"
    }
   ],
   "source": [
    "def plot_model_performance(num_epochs, training_accuracy, testing_accuracy, model_name):\n",
    "    plt.plot(np.arange(num_epochs)+1, training_accuracy, label='Training Accuracy')\n",
    "    plt.plot(np.arange(num_epochs)+1, testing_accuracy, label='Testing Accuracy')\n",
    "    plt.xlabel('Epoch')\n",
    "    plt.ylabel('Accuracy')\n",
    "    plt.title(f'Training and Testing Accuracy of {model_name}')\n",
    "    plt.legend()\n",
    "    plt.show()\n",
    "\n",
    "plot_model_performance(num_epochs, cnn_training_accuracy, cnn_testing_accuracy, 'CNN')\n",
    "plot_model_performance(num_epochs, mlp_training_accuracy, mlp_testing_accuracy, 'MLP')"
   ]
  },
  {
   "cell_type": "code",
   "execution_count": null,
   "id": "92a20374",
   "metadata": {},
   "outputs": [],
   "source": []
  }
 ],
 "metadata": {
  "kernelspec": {
   "display_name": "Python 3 (ipykernel)",
   "language": "python",
   "name": "python3"
  },
  "language_info": {
   "codemirror_mode": {
    "name": "ipython",
    "version": 3
   },
   "file_extension": ".py",
   "mimetype": "text/x-python",
   "name": "python",
   "nbconvert_exporter": "python",
   "pygments_lexer": "ipython3",
   "version": "3.8.10"
  }
 },
 "nbformat": 4,
 "nbformat_minor": 5
}
