{
 "cells": [
  {
   "cell_type": "code",
   "execution_count": 1,
   "id": "1d237d9b-555d-410a-9b3d-de06b75c6846",
   "metadata": {},
   "outputs": [],
   "source": [
    "import numpy as np\n",
    "import matplotlib.pyplot as plt\n",
    "import torch \n",
    "import torch.functional as F"
   ]
  },
  {
   "cell_type": "markdown",
   "id": "568a79a6-14cb-4887-a2f6-4e685cb64346",
   "metadata": {},
   "source": [
    "- https://karpathy.github.io/2015/05/21/rnn-effectiveness/\n",
    "- https://gist.github.com/karpathy/d4dee566867f8291f086\n",
    "- https://github.com/karpathy/char-rnn"
   ]
  },
  {
   "cell_type": "markdown",
   "id": "2bc3fa52-c8ac-45fe-aadc-66179b0af512",
   "metadata": {},
   "source": [
    "### 1. Create the dataset"
   ]
  },
  {
   "cell_type": "code",
   "execution_count": 4,
   "id": "21b3a2dd-c746-4b41-8d3d-46db4e2b7eae",
   "metadata": {},
   "outputs": [],
   "source": [
    "with open(\"names.txt\", 'r') as f:\n",
    "    names = f.readlines()\n",
    "words = [name.strip() for name in names]\n",
    "num_words = len(words)"
   ]
  },
  {
   "cell_type": "code",
   "execution_count": 5,
   "id": "12cdb450-8202-4006-84cd-79739a015e8c",
   "metadata": {},
   "outputs": [],
   "source": [
    "# build dictionary\n",
    "chars = '.' + 'abcdefghijklmnopqrstuvwxyz'\n",
    "itoc = {i: c for i, c in enumerate(chars)}\n",
    "ctoi = {c: i for i, c in enumerate(chars)}"
   ]
  },
  {
   "cell_type": "code",
   "execution_count": 6,
   "id": "9d131ed5-f751-4944-9bca-08995d28b5c8",
   "metadata": {},
   "outputs": [],
   "source": [
    "def build_dataset(words, block_size=3):\n",
    "    X, y = [], []\n",
    "    for word in words:\n",
    "        context = [0] * block_size\n",
    "        for c in word + '.':\n",
    "            idx = ctoi[c]\n",
    "            X.append(context)\n",
    "            y.append(idx)\n",
    "            context = context[1:] + [idx]\n",
    "    X = torch.tensor(X)\n",
    "    y = torch.tensor(y)\n",
    "    return X, y\n",
    "\n",
    "block_size = 4\n",
    "X, y = build_dataset(words=words, block_size=block_size)\n",
    "\n",
    "# split into training, validation and testing set\n",
    "n1, n2 = int(0.8 * num_words), int(0.9 * num_words)\n",
    "X_train, y_train = X[:n1], y[:n1]\n",
    "X_val , y_val = X[n1:n2], y[n1:n2]\n",
    "X_train, y_train = X[n2:], y[n2:]"
   ]
  },
  {
   "cell_type": "markdown",
   "id": "5ea99d42-f226-481c-9c5f-811a94f7242f",
   "metadata": {},
   "source": [
    "### 2. Build the Architecture"
   ]
  },
  {
   "cell_type": "code",
   "execution_count": null,
   "id": "488ba15f-b4b7-49c1-a62f-c5730a6819de",
   "metadata": {},
   "outputs": [],
   "source": [
    "class RNN:\n",
    "    \"\"\"\n",
    "    https://pytorch.org/docs/stable/generated/torch.nn.RNN.html\n",
    "    \"\"\"\n",
    "\n",
    "    def __init__(self):\n",
    "        pass\n"
   ]
  },
  {
   "cell_type": "code",
   "execution_count": null,
   "id": "b402456e-ac13-4fb5-aa50-fbe4efbe1495",
   "metadata": {},
   "outputs": [],
   "source": [
    "class LSTM:\n",
    "    \"\"\"\n",
    "    https://pytorch.org/docs/stable/generated/torch.nn.LSTM.html\n",
    "    \"\"\"\n",
    "\n",
    "    def __init__(self):\n",
    "        pass\n"
   ]
  },
  {
   "cell_type": "code",
   "execution_count": null,
   "id": "655c0927-8a73-4c2a-9992-9ec1dc956fd8",
   "metadata": {},
   "outputs": [],
   "source": [
    "class GRU:\n",
    "    \"\"\"\n",
    "    https://pytorch.org/docs/stable/generated/torch.nn.GRU.html\n",
    "    \"\"\"\n",
    "\n",
    "    def __init__(self):\n",
    "        pass\n"
   ]
  },
  {
   "cell_type": "markdown",
   "id": "be52521d-8edf-491a-b329-28b7d22224fe",
   "metadata": {},
   "source": [
    "### 3. Train the model"
   ]
  },
  {
   "cell_type": "code",
   "execution_count": null,
   "id": "7ff96e0f-a846-4db1-b9c8-c908b4f7578c",
   "metadata": {},
   "outputs": [],
   "source": [
    "# init with custom modules"
   ]
  },
  {
   "cell_type": "code",
   "execution_count": 7,
   "id": "e2da923e-2c42-4c29-bb62-a51009c5b8e6",
   "metadata": {},
   "outputs": [],
   "source": [
    "# init with pytorch modules\n",
    "from torch.nn import LSTM, GRU, RNN\n"
   ]
  },
  {
   "cell_type": "code",
   "execution_count": null,
   "id": "24cfee07-e03c-4dce-9706-2e9361637dcb",
   "metadata": {},
   "outputs": [],
   "source": []
  },
  {
   "cell_type": "code",
   "execution_count": 13,
   "id": "9b424d22-abe2-464e-86f9-4fc361207cac",
   "metadata": {},
   "outputs": [],
   "source": [
    "t0 = X_train[0]\n",
    "n_hidden = 28\n",
    "p0 = LSTM(block_size, n_hidden, num_layers=3)"
   ]
  },
  {
   "cell_type": "code",
   "execution_count": 26,
   "id": "3fcb2608-436e-4c94-9116-d55fe0f3be36",
   "metadata": {},
   "outputs": [],
   "source": [
    "p1 = p0(t0.unsqueeze(0).float())"
   ]
  },
  {
   "cell_type": "code",
   "execution_count": 32,
   "id": "659f7587-5156-4828-9617-b5bdf42af651",
   "metadata": {},
   "outputs": [
    {
     "data": {
      "text/plain": [
       "torch.Size([1, 28])"
      ]
     },
     "execution_count": 32,
     "metadata": {},
     "output_type": "execute_result"
    }
   ],
   "source": [
    "p1[0].shape"
   ]
  },
  {
   "cell_type": "code",
   "execution_count": null,
   "id": "28d4647d-c9b3-4ca6-9e9f-74256d3d0e94",
   "metadata": {},
   "outputs": [],
   "source": [
    "# train"
   ]
  },
  {
   "cell_type": "markdown",
   "id": "a605204c-c157-4f14-b1ed-82c17a5a6db8",
   "metadata": {},
   "source": [
    "### 4. Make the prediction"
   ]
  },
  {
   "cell_type": "code",
   "execution_count": null,
   "id": "958a61d4-bd50-4a18-875f-e2f68d87f523",
   "metadata": {},
   "outputs": [],
   "source": []
  },
  {
   "cell_type": "code",
   "execution_count": null,
   "id": "a06e9846-6fd7-4a19-b85e-76562870e627",
   "metadata": {},
   "outputs": [],
   "source": []
  },
  {
   "cell_type": "code",
   "execution_count": null,
   "id": "c532bd17-2827-437d-b5ff-5b5052ea700b",
   "metadata": {},
   "outputs": [],
   "source": []
  }
 ],
 "metadata": {
  "kernelspec": {
   "display_name": "Python 3 (ipykernel)",
   "language": "python",
   "name": "python3"
  },
  "language_info": {
   "codemirror_mode": {
    "name": "ipython",
    "version": 3
   },
   "file_extension": ".py",
   "mimetype": "text/x-python",
   "name": "python",
   "nbconvert_exporter": "python",
   "pygments_lexer": "ipython3",
   "version": "3.11.6"
  }
 },
 "nbformat": 4,
 "nbformat_minor": 5
}
