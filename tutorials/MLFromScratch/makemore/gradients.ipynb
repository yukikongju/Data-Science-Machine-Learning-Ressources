{
 "cells": [
  {
   "cell_type": "markdown",
   "id": "ec8c6de2-c4cc-448f-96aa-3a13ba6fac1c",
   "metadata": {},
   "source": [
    "- logits almost at zero at initialization => init to smaller params values\n",
    "- saturation of tanh => why we don't want tails distributions (dead neurons that never activate and update less frequently) [ occurs for activation function with flat tails ]\n",
    "- activation gain: https://pytorch.org/docs/stable/nn.init.html\n",
    "used to adjust the standard deviation of the weights due to the non-linear activation. This strategy cannot be used for deeper neural network because we don't really know the gain we should use, so we use batch normalization at each layer instead.\n",
    "- initializing tensor with kaiming normal\n",
    "- batch normalization with gaussian only at initialization: normalize + scale and shift => calculate running mean/std instead of overall mean/std to avoid having to re-train\n",
    "- when applying normalization, we don't need to add bias because it doesn't do anything\n",
    "- smaller training set requires smaller momentum \n",
    "\n",
    "https://github.com/karpathy/nn-zero-to-hero/blob/master/lectures/makemore/makemore_part3_bn.ipynb"
   ]
  },
  {
   "cell_type": "code",
   "execution_count": 1,
   "id": "3e6a65c5-2397-4d04-b8e6-c73c379384ff",
   "metadata": {},
   "outputs": [],
   "source": [
    "import numpy as np\n",
    "import torch\n",
    "import matplotlib.pyplot as plt\n",
    "import pandas as pd\n",
    "import random"
   ]
  },
  {
   "cell_type": "markdown",
   "id": "b4124300-3711-4cb7-81db-5bce2650a00b",
   "metadata": {},
   "source": [
    "## 1. MLP Revisited"
   ]
  },
  {
   "cell_type": "markdown",
   "id": "2e83a438-d63b-4899-bed3-c25ffc566971",
   "metadata": {},
   "source": [
    "### 1.1. Making the dataset"
   ]
  },
  {
   "cell_type": "code",
   "execution_count": null,
   "id": "2eea1402-d443-4d48-ac18-bf239a3057b4",
   "metadata": {},
   "outputs": [],
   "source": [
    "# --- 0. reading the dataset\n",
    "with open('names.txt', 'r') as f:\n",
    "    names = f.readlines()\n",
    "names = [name.strip() for name in names]"
   ]
  },
  {
   "cell_type": "code",
   "execution_count": 7,
   "id": "a9e4a2fa-2b07-4a64-90eb-43f151bcc720",
   "metadata": {},
   "outputs": [],
   "source": [
    "# letters dict\n",
    "chrs = '.abcdefghijklmnopqrstuvwxyz'\n",
    "ctoi = {c: i for i, c in enumerate(chrs)}\n",
    "itoc = {i: c for i, c in enumerate(chrs)}"
   ]
  },
  {
   "cell_type": "code",
   "execution_count": 85,
   "id": "35ca781d-2f8f-4bb8-97bc-5fd136cbac8a",
   "metadata": {},
   "outputs": [],
   "source": [
    "# --- 1. creating the dataset\n",
    "block_size = 3\n",
    "X, y = [], []\n",
    "for name in names:\n",
    "    context = [0] * block_size\n",
    "    for char in name:\n",
    "        idx = ctoi[char]\n",
    "        context = context[1:] + [idx]\n",
    "        X.append(context)\n",
    "        y.append(idx)\n",
    "X = np.array(X)\n",
    "y = np.array(y)"
   ]
  },
  {
   "cell_type": "code",
   "execution_count": 86,
   "id": "037a3a29-5296-4686-a953-d19203eeac3b",
   "metadata": {},
   "outputs": [],
   "source": [
    "# split into training and test dataset\n",
    "n = X.shape[0]\n",
    "training_split = 0.8\n",
    "training_indexes = random.sample(range(n), int(n*training_split))\n",
    "test_indexes = list(set(range(n)) - set(training_indexes))\n",
    "\n",
    "# \n",
    "X_train, y_train = X[training_indexes], y[training_indexes]\n",
    "X_test, y_test = X[test_indexes], y[test_indexes]"
   ]
  },
  {
   "cell_type": "code",
   "execution_count": null,
   "id": "4b49dc35-41e6-4e88-8525-797af625194b",
   "metadata": {},
   "outputs": [],
   "source": []
  },
  {
   "cell_type": "markdown",
   "id": "c1f875c6-5a89-402b-97e8-c5a0826aa5d2",
   "metadata": {},
   "source": [
    "### 1.2. MLP 2.0"
   ]
  },
  {
   "cell_type": "code",
   "execution_count": 111,
   "id": "60983c0f-9792-41d0-a2bc-8b12b76fbf07",
   "metadata": {},
   "outputs": [],
   "source": [
    "# --- 2. init mlp params with adjustment\n",
    "n_emb = 10 # size of character embedding\n",
    "n_hidden = 20 # number of neurons in hidden layer\n",
    "vocab_size = len(chrs) # 27\n",
    "\n",
    "# parameters: C, W1, b1, W2, b2, bnmean, bnstd\n",
    "# first layer: tanh -> gain: 5/3 * std\n",
    "# second layer: sigmoid -> gain: 1 * std\n",
    "# std: sqrt(n_emb * block_size)\n",
    "g = torch.Generator().manual_seed(420)\n",
    "C = torch.randn((vocab_size, n_emb), generator=g)\n",
    "W1 = torch.randn((n_emb * block_size, n_hidden), generator=g) * 5/3 * (n_emb * block_size)**2\n",
    "b1 = torch.randn(n_hidden, generator=g) * 0.01\n",
    "W2 = torch.randn((n_hidden, vocab_size), generator=g) * 0.01\n",
    "b2 = torch.randn(vocab_size, generator=g) * 0.0\n",
    "\n",
    "# Batch norm parameters\n",
    "bngain = torch.ones((1, n_hidden))\n",
    "bnbias = torch.zeros((1, n_hidden))\n",
    "bn_mean_running = torch.zeros((1, n_hidden))\n",
    "bn_std_running = torch.ones((1, n_hidden))\n",
    "\n",
    "params = [C, W1, W2, b2, bngain, bnbias]\n",
    "for param in params:\n",
    "    param.requires_grad = True"
   ]
  },
  {
   "cell_type": "code",
   "execution_count": 112,
   "id": "a6341a61-33dd-4ec1-b49d-d2f611e089f3",
   "metadata": {},
   "outputs": [
    {
     "data": {
      "text/plain": [
       "1477"
      ]
     },
     "execution_count": 112,
     "metadata": {},
     "output_type": "execute_result"
    }
   ],
   "source": [
    "sum(p.nelement() for p in params)"
   ]
  },
  {
   "cell_type": "code",
   "execution_count": 114,
   "id": "eb8f1cb9-debc-4fba-a31e-e83fa00e87c1",
   "metadata": {},
   "outputs": [
    {
     "name": "stdout",
     "output_type": "stream",
     "text": [
      "Epoch 0: 0.007345\n",
      "Epoch 10000: 0.006155\n",
      "Epoch 20000: 0.004254\n",
      "Epoch 30000: 0.002095\n",
      "Epoch 40000: 0.002000\n",
      "Epoch 50000: 0.001576\n",
      "Epoch 60000: 0.001404\n",
      "Epoch 70000: 0.002732\n",
      "Epoch 80000: 0.000926\n",
      "Epoch 90000: 0.038557\n",
      "Epoch 100000: 0.000888\n",
      "Epoch 110000: 0.001859\n",
      "Epoch 120000: 0.000832\n",
      "Epoch 130000: 0.000341\n",
      "Epoch 140000: 0.001595\n",
      "Epoch 150000: 0.012919\n",
      "Epoch 160000: 0.006076\n",
      "Epoch 170000: 0.000597\n",
      "Epoch 180000: 0.000756\n",
      "Epoch 190000: 0.001005\n"
     ]
    }
   ],
   "source": [
    "# --- 3. train MLP with (1) batch gradient descent (2) batch normalization \n",
    "#        (3) decay learning rate\n",
    "num_epochs = 200000\n",
    "batch_size = 32\n",
    "\n",
    "for i in range(num_epochs):\n",
    "    # create batch size\n",
    "    idxs = random.sample(range(X_train.shape[0]), batch_size)\n",
    "    Xb, yb = torch.tensor(X_train[idxs]), torch.tensor(y_train[idxs])\n",
    "\n",
    "    # -- forward pass\n",
    "    emb = C[Xb]\n",
    "    embcat = emb.view(emb.shape[0], -1)\n",
    "    # linear layer\n",
    "    h1 = embcat @ W1 # + b1\n",
    "    # batch normalization\n",
    "    bnmeani = h1.mean(0, keepdim=True)\n",
    "    bnstdi = h1.std(0, keepdim=True)\n",
    "    h2 = bngain * (h1 - bnmeani) / bnstdi + bnbias\n",
    "    with torch.no_grad():\n",
    "        bn_mean_running = 0.999 * bn_mean_running + 0.001 * bnmeani\n",
    "        bn_std_running = 0.999 * bn_std_running + 0.001 * bnstdi\n",
    "    # non-linear\n",
    "    h3 = torch.tanh(h2)\n",
    "    logits = h3 @ W2 + b2\n",
    "    loss = torch.nn.functional.cross_entropy(logits, yb)\n",
    "\n",
    "    # -- backward pass\n",
    "    for p in params:\n",
    "        p.grad = None\n",
    "    loss.backward()\n",
    "\n",
    "    # -- update weights\n",
    "    lr = 0.1 if i < 100000 else 0.01\n",
    "    for p in params:\n",
    "        p.data += -lr * p.grad\n",
    "\n",
    "    # -- print stats\n",
    "    if i % 10000 == 0:\n",
    "        print(f\"Epoch {i}: {loss:4f}\")"
   ]
  },
  {
   "cell_type": "code",
   "execution_count": null,
   "id": "d10113e3-2ada-4a6a-97c7-73b6d9e8391d",
   "metadata": {},
   "outputs": [],
   "source": []
  },
  {
   "cell_type": "code",
   "execution_count": null,
   "id": "9fdb534b-fba9-413e-b852-0cad3cd6c84c",
   "metadata": {},
   "outputs": [],
   "source": [
    "# --- 4. make inference"
   ]
  },
  {
   "cell_type": "code",
   "execution_count": null,
   "id": "ba35d013-3a81-4396-8dda-b286536a54c5",
   "metadata": {},
   "outputs": [],
   "source": []
  },
  {
   "cell_type": "code",
   "execution_count": null,
   "id": "e5601a0b-3d27-4f6c-9bf2-c83f48e7e45e",
   "metadata": {},
   "outputs": [],
   "source": []
  },
  {
   "cell_type": "markdown",
   "id": "d66482d2-2a28-42d2-84f1-5a42c5498bd2",
   "metadata": {},
   "source": [
    "### 2. MLP with PyTorch"
   ]
  },
  {
   "cell_type": "code",
   "execution_count": null,
   "id": "958cdd7d-694b-4023-aa95-a338741d7aa0",
   "metadata": {},
   "outputs": [],
   "source": []
  }
 ],
 "metadata": {
  "kernelspec": {
   "display_name": "Python 3 (ipykernel)",
   "language": "python",
   "name": "python3"
  },
  "language_info": {
   "codemirror_mode": {
    "name": "ipython",
    "version": 3
   },
   "file_extension": ".py",
   "mimetype": "text/x-python",
   "name": "python",
   "nbconvert_exporter": "python",
   "pygments_lexer": "ipython3",
   "version": "3.11.6"
  }
 },
 "nbformat": 4,
 "nbformat_minor": 5
}
