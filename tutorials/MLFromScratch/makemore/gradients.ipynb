{
 "cells": [
  {
   "cell_type": "markdown",
   "id": "ec8c6de2-c4cc-448f-96aa-3a13ba6fac1c",
   "metadata": {},
   "source": [
    "- logits almost at zero at initialization => init to smaller params values\n",
    "- saturation of tanh => why we don't want tails distributions (dead neurons that never activate and update less frequently) [ occurs for activation function with flat tails ]\n",
    "- initializing tensor with kaiming normal\n",
    "\n",
    "https://github.com/karpathy/nn-zero-to-hero/blob/master/lectures/makemore/makemore_part3_bn.ipynb"
   ]
  },
  {
   "cell_type": "code",
   "execution_count": 1,
   "id": "3e6a65c5-2397-4d04-b8e6-c73c379384ff",
   "metadata": {},
   "outputs": [],
   "source": [
    "import numpy as np\n",
    "import torch\n",
    "import matplotlib.pyplot as plt\n",
    "import pandas as pd"
   ]
  },
  {
   "cell_type": "markdown",
   "id": "b4124300-3711-4cb7-81db-5bce2650a00b",
   "metadata": {},
   "source": [
    "### MLP Revisited"
   ]
  },
  {
   "cell_type": "code",
   "execution_count": null,
   "id": "0b8910e9-e547-468e-9b8a-42d63fff78a8",
   "metadata": {},
   "outputs": [],
   "source": []
  },
  {
   "cell_type": "code",
   "execution_count": null,
   "id": "35ca781d-2f8f-4bb8-97bc-5fd136cbac8a",
   "metadata": {},
   "outputs": [],
   "source": []
  },
  {
   "cell_type": "code",
   "execution_count": null,
   "id": "60983c0f-9792-41d0-a2bc-8b12b76fbf07",
   "metadata": {},
   "outputs": [],
   "source": []
  },
  {
   "cell_type": "code",
   "execution_count": null,
   "id": "9fdb534b-fba9-413e-b852-0cad3cd6c84c",
   "metadata": {},
   "outputs": [],
   "source": []
  },
  {
   "cell_type": "code",
   "execution_count": null,
   "id": "ba35d013-3a81-4396-8dda-b286536a54c5",
   "metadata": {},
   "outputs": [],
   "source": []
  }
 ],
 "metadata": {
  "kernelspec": {
   "display_name": "Python 3 (ipykernel)",
   "language": "python",
   "name": "python3"
  },
  "language_info": {
   "codemirror_mode": {
    "name": "ipython",
    "version": 3
   },
   "file_extension": ".py",
   "mimetype": "text/x-python",
   "name": "python",
   "nbconvert_exporter": "python",
   "pygments_lexer": "ipython3",
   "version": "3.11.6"
  }
 },
 "nbformat": 4,
 "nbformat_minor": 5
}
