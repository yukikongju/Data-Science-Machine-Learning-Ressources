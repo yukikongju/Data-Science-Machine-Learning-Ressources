{
 "cells": [
  {
   "cell_type": "code",
   "execution_count": 19,
   "id": "e62bbf64-d4cb-480c-9465-226633c9ca69",
   "metadata": {},
   "outputs": [],
   "source": [
    "import pandas as pd\n",
    "import numpy as np\n",
    "import matplotlib.pyplot as plt\n",
    "import torch\n",
    "import random\n",
    "# import seaborn as sns"
   ]
  },
  {
   "cell_type": "markdown",
   "id": "dc219b4b-ce5b-4fcd-bdbe-059b5f38ea83",
   "metadata": {},
   "source": [
    "https://github.com/karpathy/nn-zero-to-hero/blob/master/lectures/makemore/makemore_part2_mlp.ipynb"
   ]
  },
  {
   "cell_type": "markdown",
   "id": "14829284-9752-477a-923c-435855d88a0d",
   "metadata": {},
   "source": [
    "### 1. Build Dataset based on block size"
   ]
  },
  {
   "cell_type": "code",
   "execution_count": 5,
   "id": "281a6dc5-2bcd-4f41-8517-a20b2fe92a56",
   "metadata": {},
   "outputs": [],
   "source": [
    "# read names\n",
    "with open('names.txt', 'r') as f:\n",
    "    names = f.readlines()\n",
    "names = [name.strip() for name in names]"
   ]
  },
  {
   "cell_type": "code",
   "execution_count": 9,
   "id": "730d3e22-9034-448b-a388-d0aa1f504afc",
   "metadata": {},
   "outputs": [],
   "source": [
    "# build chars to int mapping\n",
    "chars = '.abcdefghijklmnopqrstuvwxyz'\n",
    "ctoi = {c: i for i, c in enumerate(chars)}\n",
    "itoc = {i: c for i, c in enumerate(chars)}"
   ]
  },
  {
   "cell_type": "code",
   "execution_count": 15,
   "id": "574f6d3c-1532-4c1f-a9cf-f3e51425a38e",
   "metadata": {},
   "outputs": [],
   "source": [
    "# --- build dataset based on block size ie how many chars do we take to predict the next one\n",
    "def build_dataset(names: [str], block_size: int = 3):\n",
    "    X, Y = [], []\n",
    "    for name in names:\n",
    "        context = [0] * block_size\n",
    "        for ch in list(name) + ['.']:\n",
    "            idx = ctoi[ch]\n",
    "            X.append(context)\n",
    "            Y.append(idx)\n",
    "            context = context[1:] + [idx]\n",
    "    X = torch.tensor(X)\n",
    "    Y = torch.tensor(Y)\n",
    "    return X, Y"
   ]
  },
  {
   "cell_type": "code",
   "execution_count": 25,
   "id": "ca5758a7-ec19-420a-81b5-ae9ff522d72d",
   "metadata": {},
   "outputs": [],
   "source": [
    "# --- split into training and testing set\n",
    "\n",
    "# creating dataset\n",
    "X, Y = build_dataset(names=names, block_size=3)\n",
    "\n",
    "# generating random indexes\n",
    "indexes = list(range(X.shape[0]))\n",
    "random.shuffle(indexes)\n",
    "train_perc = 0.8\n",
    "train_size = int(X.shape[0] * train_perc)\n",
    "\n",
    "# spliting \n",
    "X_train, Y_train = X[:train_size], Y[:train_size]\n",
    "X_test, Y_test = X[train_size:], Y[train_size:]"
   ]
  },
  {
   "cell_type": "code",
   "execution_count": 28,
   "id": "e68e7ed1-8b12-46b8-a1b0-0481e4bc83c3",
   "metadata": {},
   "outputs": [
    {
     "name": "stdout",
     "output_type": "stream",
     "text": [
      "torch.Size([182516, 3]) torch.Size([182516])\n"
     ]
    }
   ],
   "source": [
    "print(X_train.shape, Y_train.shape)"
   ]
  },
  {
   "cell_type": "code",
   "execution_count": null,
   "id": "11d210d8-5fcc-4520-b8f1-f3c93afd5049",
   "metadata": {},
   "outputs": [],
   "source": [
    "# build chars-int dictionary: mapping from subsequence of chars to int\n"
   ]
  },
  {
   "cell_type": "code",
   "execution_count": null,
   "id": "2001115a-e5d0-4bfd-bb51-e7371a3b6b0e",
   "metadata": {},
   "outputs": [],
   "source": []
  },
  {
   "cell_type": "code",
   "execution_count": null,
   "id": "c945d22c-849a-4970-859a-3e29d0869084",
   "metadata": {},
   "outputs": [],
   "source": [
    "# encode with one-hot encoding (?)\n",
    "\n"
   ]
  },
  {
   "cell_type": "markdown",
   "id": "75e8094e-b0b5-4f6f-b214-ba9e502b9cde",
   "metadata": {},
   "source": [
    "### 2. Build and Train Embedding"
   ]
  },
  {
   "cell_type": "code",
   "execution_count": 128,
   "id": "97dfeeaf-274d-4fe6-99ef-fcf1a213cdd1",
   "metadata": {},
   "outputs": [],
   "source": [
    "# initialize embedding -> each character is represented by a vector of {vector_size}\n",
    "# initialize MLP layers -> we have two layers\n",
    "# layer 1: dim W1: (vector_size * block_size, t1)\n",
    "# layer 2: dim W2: (1, 27) ie 27: num of chars\n",
    "vector_size = 10\n",
    "g = torch.Generator().manual_seed(420)\n",
    "C = torch.randn((27, vector_size), generator=g)\n",
    "embedding = C[X] # shape: [228146, 3, 2]\n",
    "W1 = torch.randn((30, 200), generator=g)\n",
    "b1 = torch.randn(200, generator=g)\n",
    "W2 = torch.randn((200, 27), generator=g)\n",
    "b2 = torch.randn(27, generator=g)\n",
    "params = [C, W1, b1, W2, b2]"
   ]
  },
  {
   "cell_type": "code",
   "execution_count": 129,
   "id": "b63264a3-3e3d-47f0-90c1-b8e42529f2af",
   "metadata": {},
   "outputs": [
    {
     "data": {
      "text/plain": [
       "11897"
      ]
     },
     "execution_count": 129,
     "metadata": {},
     "output_type": "execute_result"
    }
   ],
   "source": [
    "# num of parameters in total\n",
    "sum(p.nelement() for p in params)"
   ]
  },
  {
   "cell_type": "code",
   "execution_count": 130,
   "id": "c14488ce-64cb-46c6-83b0-19c149dd7a0e",
   "metadata": {},
   "outputs": [],
   "source": [
    "# set parameters to training mode\n",
    "for p in params:\n",
    "    p.requires_grad = True"
   ]
  },
  {
   "cell_type": "code",
   "execution_count": 131,
   "id": "219f15a1-7d01-48e1-bb3d-171789332982",
   "metadata": {},
   "outputs": [
    {
     "data": {
      "text/plain": [
       "tensor([[ 0,  0,  5],\n",
       "        [ 0,  5, 13],\n",
       "        [ 5, 13, 13]])"
      ]
     },
     "execution_count": 131,
     "metadata": {},
     "output_type": "execute_result"
    }
   ],
   "source": [
    "X_train[[1,2,3]]"
   ]
  },
  {
   "cell_type": "code",
   "execution_count": 132,
   "id": "75220311-4f48-482b-a31f-7e6b417e4ed3",
   "metadata": {},
   "outputs": [
    {
     "name": "stdout",
     "output_type": "stream",
     "text": [
      "Epoch 0: 23.77777099609375\n",
      "Epoch 5000: 3.533219814300537\n",
      "Epoch 10000: 2.819716453552246\n",
      "Epoch 15000: 2.279491662979126\n",
      "Epoch 20000: 2.2140583992004395\n",
      "Epoch 25000: 1.9915820360183716\n",
      "Epoch 30000: 2.4069290161132812\n",
      "Epoch 35000: 3.1096560955047607\n",
      "Epoch 40000: 2.4751720428466797\n",
      "Epoch 45000: 2.4331893920898438\n",
      "Epoch 50000: 2.5955281257629395\n",
      "Epoch 55000: 2.039189577102661\n",
      "Epoch 60000: 2.14447021484375\n",
      "Epoch 65000: 2.6180381774902344\n",
      "Epoch 70000: 2.8942902088165283\n",
      "Epoch 75000: 2.0928733348846436\n",
      "Epoch 80000: 2.189805507659912\n",
      "Epoch 85000: 2.15787410736084\n",
      "Epoch 90000: 2.294736385345459\n",
      "Epoch 95000: 2.035386085510254\n",
      "Epoch 100000: 2.164144277572632\n",
      "Epoch 105000: 2.128009080886841\n",
      "Epoch 110000: 1.6010549068450928\n",
      "Epoch 115000: 2.2479536533355713\n",
      "Epoch 120000: 2.105144739151001\n",
      "Epoch 125000: 1.9377598762512207\n",
      "Epoch 130000: 2.453157663345337\n",
      "Epoch 135000: 1.7534037828445435\n",
      "Epoch 140000: 1.9535577297210693\n",
      "Epoch 145000: 2.2752206325531006\n",
      "Epoch 150000: 2.630537986755371\n",
      "Epoch 155000: 1.8600257635116577\n",
      "Epoch 160000: 1.904893398284912\n",
      "Epoch 165000: 2.455064296722412\n",
      "Epoch 170000: 1.782188892364502\n",
      "Epoch 175000: 2.065377712249756\n",
      "Epoch 180000: 1.9533522129058838\n",
      "Epoch 185000: 2.2920682430267334\n",
      "Epoch 190000: 2.353875160217285\n",
      "Epoch 195000: 1.961370825767517\n"
     ]
    }
   ],
   "source": [
    "# mini-batch gradient descent + learning rate decay\n",
    "num_epochs = 200000\n",
    "batch_size = 32\n",
    "n = X_train.shape[0]\n",
    "\n",
    "losses = []\n",
    "for i in range(num_epochs):\n",
    "    # indexing mini-batch\n",
    "    indexes = torch.randint(low=0, high=n, size=(batch_size,))\n",
    "    \n",
    "    # forward pass\n",
    "    emb = C[X_train[indexes]]\n",
    "    h = torch.tanh(emb.view(-1, 30) @ W1 + b1)\n",
    "    logits = h @ W2 + b2\n",
    "    loss = torch.nn.functional.cross_entropy(logits, Y_train[indexes])\n",
    "    losses.append(loss)\n",
    "    \n",
    "    # backward pass\n",
    "    for p in params:\n",
    "        p.grad = None\n",
    "    loss.backward()\n",
    "\n",
    "    # update\n",
    "    lr = 0.1 if i < 100000 else 0.01\n",
    "    for p in params:\n",
    "        p.data -= lr * p.grad\n",
    "\n",
    "    # print loss\n",
    "    if i % 5000 == 0:\n",
    "        print(f\"Epoch {i}: {loss}\")"
   ]
  },
  {
   "cell_type": "code",
   "execution_count": 137,
   "id": "c9295ee0-8343-4148-ba09-de628ca5b8fc",
   "metadata": {},
   "outputs": [
    {
     "data": {
      "text/plain": [
       "[<matplotlib.lines.Line2D at 0x13e177150>]"
      ]
     },
     "execution_count": 137,
     "metadata": {},
     "output_type": "execute_result"
    },
    {
     "data": {
      "image/png": "[encoded data removed]",
      "text/plain": [
       "<Figure size 640x480 with 1 Axes>"
      ]
     },
     "metadata": {},
     "output_type": "display_data"
    }
   ],
   "source": [
    "steps = list(range(num_epochs))\n",
    "plt.plot(steps, torch.tensor(losses).log10())"
   ]
  },
  {
   "cell_type": "code",
   "execution_count": null,
   "id": "640210b2-64df-4ab4-9981-f39325b7f728",
   "metadata": {},
   "outputs": [],
   "source": []
  },
  {
   "cell_type": "markdown",
   "id": "16c08a80-a7c5-477a-9e54-4001385f9f21",
   "metadata": {},
   "source": [
    "### 3. Visualize Embedding"
   ]
  },
  {
   "cell_type": "markdown",
   "id": "1eae416f-1e09-467f-9450-5025aeaf8bdd",
   "metadata": {},
   "source": [
    "- visualization with t-sne (or alternative dimension reduction algo)"
   ]
  },
  {
   "cell_type": "code",
   "execution_count": null,
   "id": "7396dee9-2a4e-4ace-a81c-07ec6f63649d",
   "metadata": {},
   "outputs": [],
   "source": []
  },
  {
   "cell_type": "markdown",
   "id": "7304a53a-27cc-494b-a6d8-d431b94539c3",
   "metadata": {},
   "source": [
    "### 4. Sample from model"
   ]
  },
  {
   "cell_type": "code",
   "execution_count": 138,
   "id": "89e18a13-a2e9-4353-a28e-78aa5cf86959",
   "metadata": {},
   "outputs": [
    {
     "data": {
      "text/plain": [
       "torch.Size([1, 3, 10])"
      ]
     },
     "execution_count": 138,
     "metadata": {},
     "output_type": "execute_result"
    }
   ],
   "source": [
    "context = [0] * block_size\n",
    "C[torch.tensor([context])].shape"
   ]
  },
  {
   "cell_type": "code",
   "execution_count": 151,
   "id": "4e9965ee-29ca-42d8-b8f9-937dc4986c35",
   "metadata": {},
   "outputs": [],
   "source": [
    "def generate_name():\n",
    "    letters = []\n",
    "    context = [0] * block_size\n",
    "    while True:\n",
    "        emb = C[torch.tensor([context])]\n",
    "        h = torch.tanh(emb.view(1, -1) @ W1 + b1)\n",
    "        logits = h @ W2 + b2\n",
    "        probs = torch.softmax(logits, dim=1)\n",
    "        idx = torch.multinomial(probs, num_samples=1, generator=g).item()\n",
    "        context = context[1:] + [idx]\n",
    "        letters.append(itoc[idx])\n",
    "\n",
    "        if idx == 0:\n",
    "            break\n",
    "\n",
    "    return ''.join(letters[:-1])\n",
    "\n",
    "t = generate_name()"
   ]
  },
  {
   "cell_type": "code",
   "execution_count": 152,
   "id": "151a3e77-c711-40de-8c40-78395ef4348b",
   "metadata": {},
   "outputs": [
    {
     "data": {
      "text/plain": [
       "'alaytelee'"
      ]
     },
     "execution_count": 152,
     "metadata": {},
     "output_type": "execute_result"
    }
   ],
   "source": [
    "t"
   ]
  },
  {
   "cell_type": "code",
   "execution_count": null,
   "id": "dc1a0d9a-2657-459f-ad37-15ce4670c31a",
   "metadata": {},
   "outputs": [],
   "source": []
  },
  {
   "cell_type": "code",
   "execution_count": null,
   "id": "b21098f5-1a31-4fdf-a08c-c05f17fa862a",
   "metadata": {},
   "outputs": [],
   "source": []
  }
 ],
 "metadata": {
  "kernelspec": {
   "display_name": "Python 3 (ipykernel)",
   "language": "python",
   "name": "python3"
  },
  "language_info": {
   "codemirror_mode": {
    "name": "ipython",
    "version": 3
   },
   "file_extension": ".py",
   "mimetype": "text/x-python",
   "name": "python",
   "nbconvert_exporter": "python",
   "pygments_lexer": "ipython3",
   "version": "3.11.6"
  }
 },
 "nbformat": 4,
 "nbformat_minor": 5
}
