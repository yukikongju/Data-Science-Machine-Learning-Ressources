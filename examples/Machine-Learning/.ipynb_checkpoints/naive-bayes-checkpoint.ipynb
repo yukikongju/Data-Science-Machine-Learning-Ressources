{
 "cells": [
  {
   "cell_type": "markdown",
   "metadata": {},
   "source": [
    "## Naive Bayes"
   ]
  },
  {
   "cell_type": "markdown",
   "metadata": {},
   "source": [
    "#### Training a Classifier for Continuous Features: use Gaussian Naive Bayes"
   ]
  },
  {
   "cell_type": "code",
   "execution_count": 696,
   "metadata": {},
   "outputs": [
    {
     "data": {
      "text/plain": [
       "array([[0.00000000e+00, 8.66468865e-30, 1.00000000e+00]])"
      ]
     },
     "execution_count": 696,
     "metadata": {},
     "output_type": "execute_result"
    }
   ],
   "source": [
    "from sklearn.datasets import load_iris\n",
    "from sklearn.naive_bayes import GaussianNB\n",
    "from sklearn.preprocessing import StandardScaler\n",
    "\n",
    "# load data\n",
    "iris = datasets.load_iris()\n",
    "features = iris.data\n",
    "target = iris.target\n",
    "\n",
    "# standardize data\n",
    "features_standardized = StandardScaler().fit_transform(features)\n",
    "\n",
    "# create gaussian naie bayes\n",
    "classifier = GaussianNB(priors = [0.25, .25, .5]) \n",
    "classifier.fit(features_standardized, target)\n",
    "\n",
    "# predict new values\n",
    "new_obs = [[4,4,4,.4]]\n",
    "classifier.predict(new_obs)\n",
    "\n",
    "# priors: set probabilities of each class"
   ]
  },
  {
   "cell_type": "markdown",
   "metadata": {},
   "source": [
    "####  Training a Classifier for Discrete and Count Features"
   ]
  },
  {
   "cell_type": "code",
   "execution_count": 700,
   "metadata": {},
   "outputs": [
    {
     "data": {
      "text/plain": [
       "array([1])"
      ]
     },
     "execution_count": 700,
     "metadata": {},
     "output_type": "execute_result"
    }
   ],
   "source": [
    "import numpy as np\n",
    "from sklearn.naive_bayes import MultinomialNB\n",
    "from sklearn.feature_extraction.text import CountVectorizer\n",
    "\n",
    "# generetae text\n",
    "text_data = np.array(['bobob', 'mammamama', 'duddodd'])\n",
    "\n",
    "# target\n",
    "target = np.array([0,0,1])\n",
    "\n",
    "# create bags-of-words\n",
    "bags = CountVectorizer().fit_transform(text_data).toarray()\n",
    "\n",
    "# create naive bayes\n",
    "classifier = MultinomialNB(class_prior = [0.25,.5])\n",
    "classifier.fit(bags, target)\n",
    "\n",
    "# predict new observation\n",
    "new_observation = [[0, 0, 1]]\n",
    "classifier.predict(new_observation)\n",
    "\n",
    "# if class_prior is not specified, prior probabilites are learned\n",
    "# using the data. If we have a uniform distribution, we can set\n",
    "# fit_prior = False\n",
    "# we can also smooth the model using alpha = 2\n"
   ]
  },
  {
   "cell_type": "markdown",
   "metadata": {},
   "source": [
    "#### Training a Naive Bayes Classifier for Binary Features: Bernouilli naive bayes classifier"
   ]
  },
  {
   "cell_type": "code",
   "execution_count": 705,
   "metadata": {},
   "outputs": [
    {
     "data": {
      "text/plain": [
       "BernoulliNB(alpha=1.0, binarize=0.0, class_prior=[0.25, 0.5], fit_prior=True)"
      ]
     },
     "execution_count": 705,
     "metadata": {},
     "output_type": "execute_result"
    }
   ],
   "source": [
    "import numpy as np\n",
    "from sklearn.naive_bayes import BernoulliNB\n",
    "\n",
    "# generate features\n",
    "features = np.random.randint(2, size = (100,3))\n",
    "\n",
    "# generate target\n",
    "target = np.random.randint(2, size = (100,1)).ravel()\n",
    "\n",
    "# create classifier\n",
    "classifier = BernoulliNB(class_prior = [.25,.5])\n",
    "classifier.fit(features, target)\n",
    "\n",
    "# more param: class_prior = None, fit_prior = True"
   ]
  },
  {
   "cell_type": "markdown",
   "metadata": {},
   "source": [
    "#### Calibrating Predicted Probabilities: use signomoid to make values probabilities"
   ]
  },
  {
   "cell_type": "code",
   "execution_count": 708,
   "metadata": {},
   "outputs": [
    {
     "data": {
      "text/plain": [
       "array([[0.0195019 , 0.04473133, 0.93576677]])"
      ]
     },
     "execution_count": 708,
     "metadata": {},
     "output_type": "execute_result"
    }
   ],
   "source": [
    "from sklearn.naive_bayes import GaussianNB\n",
    "from sklearn.datasets import load_iris\n",
    "from sklearn.calibration import CalibratedClassifierCV\n",
    "from sklearn.preprocessing import StandardScaler\n",
    "\n",
    "# Load data\n",
    "iris = datasets.load_iris()\n",
    "features = iris.data\n",
    "target = iris.target\n",
    "\n",
    "# standardize features\n",
    "features_standardized = StandardScaler().fit_transform(features)\n",
    "\n",
    "# create classifier\n",
    "classifier_sigmoid = CalibratedClassifierCV(\n",
    "    GaussianNB(), cv=2, method = 'sigmoid'\n",
    ").fit(features_standardized, target)\n",
    "\n",
    "# predict \n",
    "new_observation = [[ 2.6, 2.6, 2.6, 0.4]]\n",
    "classifier_sigmoid.predict_proba(new_observation)\n"
   ]
  }
 ],
 "metadata": {
  "kernelspec": {
   "display_name": "Python 3",
   "language": "python",
   "name": "python3"
  },
  "language_info": {
   "codemirror_mode": {
    "name": "ipython",
    "version": 3
   },
   "file_extension": ".py",
   "mimetype": "text/x-python",
   "name": "python",
   "nbconvert_exporter": "python",
   "pygments_lexer": "ipython3",
   "version": "3.7.7"
  }
 },
 "nbformat": 4,
 "nbformat_minor": 4
}
