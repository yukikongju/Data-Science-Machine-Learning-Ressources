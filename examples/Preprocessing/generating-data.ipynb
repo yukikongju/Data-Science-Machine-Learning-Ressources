{
 "cells": [
  {
   "cell_type": "markdown",
   "metadata": {},
   "source": [
    "## Generating Data"
   ]
  },
  {
   "cell_type": "markdown",
   "metadata": {},
   "source": [
    "#### Generating random values "
   ]
  },
  {
   "cell_type": "code",
   "execution_count": 2,
   "metadata": {},
   "outputs": [
    {
     "data": {
      "text/plain": [
       "array([2.7113966 , 2.70621101, 4.32311415])"
      ]
     },
     "execution_count": 2,
     "metadata": {},
     "output_type": "execute_result"
    }
   ],
   "source": [
    "import numpy as np\n",
    "\n",
    "np.random.seed(420) # set seed for reproductive values\n",
    "np.random.random(3) # generate 3 random float between 0,1\n",
    "np.random.randint(0,11,3) # generate 3 random num between 0,10\n",
    "np.random.normal(0,1,3) # generate normal distribution with mean 0 and std of 1\n",
    "np.random.logistic(0,1,3) # generate 3 rand numb from logistic reg with mean 0 and scale of 1\n",
    "np.random.uniform(2,5,3) # generate 3 rand element between [2,5["
   ]
  },
  {
   "cell_type": "markdown",
   "metadata": {},
   "source": [
    "#### Generate dataset for regression"
   ]
  },
  {
   "cell_type": "code",
   "execution_count": 3,
   "metadata": {},
   "outputs": [
    {
     "name": "stdout",
     "output_type": "stream",
     "text": [
      "Features Matrix\n",
      " [[ 0.88927717 -0.98514348  0.14545183]\n",
      " [ 0.57073084  0.0653164   0.67641123]\n",
      " [-0.12873466 -0.17049738  1.74133681]]\n",
      "Target Vector\n",
      " [  9.82952567  74.59668467 108.37143506]\n"
     ]
    }
   ],
   "source": [
    "from sklearn.datasets import make_regression\n",
    "\n",
    "features, target, coefficients = make_regression(\n",
    "    n_samples = 100,\n",
    "    n_features = 3,\n",
    "    n_informative = 3,\n",
    "    n_targets = 1,\n",
    "    noise = 0,\n",
    "    coef = True,\n",
    "    random_state = 420\n",
    ")\n",
    "\n",
    "print('Features Matrix\\n', features[:3])\n",
    "print('Target Vector\\n', target[:3])\n",
    "\n",
    "# n_informative: number of features used to create target"
   ]
  },
  {
   "cell_type": "markdown",
   "metadata": {},
   "source": [
    "#### Generate dataset for classification"
   ]
  },
  {
   "cell_type": "code",
   "execution_count": 4,
   "metadata": {},
   "outputs": [
    {
     "name": "stdout",
     "output_type": "stream",
     "text": [
      "Features Matrix\n",
      " [[ 2.2062126  -0.09854505  0.43939749]\n",
      " [ 1.02605503 -0.84677005 -1.01515178]\n",
      " [ 0.61771459 -1.05462148  2.81549146]]\n",
      "Target Vector\n",
      " [1 1 0]\n"
     ]
    }
   ],
   "source": [
    "from sklearn.datasets import make_classification\n",
    "\n",
    "features, target = make_classification(\n",
    "    n_samples = 100,\n",
    "    n_features = 3,\n",
    "    n_informative =3,\n",
    "    n_redundant = 0,\n",
    "    n_classes = 2,\n",
    "    weights =[.25, .75],\n",
    "    random_state = 420\n",
    ")\n",
    "\n",
    "print('Features Matrix\\n', features[:3])\n",
    "print('Target Vector\\n', target[:3])\n",
    "\n",
    "# weights: create imbalance in classes"
   ]
  },
  {
   "cell_type": "markdown",
   "metadata": {},
   "source": [
    "#### Generate dataset for clustering"
   ]
  },
  {
   "cell_type": "code",
   "execution_count": 5,
   "metadata": {},
   "outputs": [
    {
     "name": "stdout",
     "output_type": "stream",
     "text": [
      "Feature Matrix\n",
      " [[ 2.2062126  -0.09854505  0.43939749]\n",
      " [ 1.02605503 -0.84677005 -1.01515178]\n",
      " [ 0.61771459 -1.05462148  2.81549146]]\n",
      "Target Vector\n",
      " [0 0 1]\n"
     ]
    }
   ],
   "source": [
    "from sklearn.datasets import make_blobs\n",
    "\n",
    "feature, target = make_blobs(\n",
    "    n_samples = 100,\n",
    "    n_features = 2,\n",
    "    centers =3,\n",
    "    cluster_std =0.5,\n",
    "    shuffle = True,\n",
    "    random_state = 420\n",
    ")\n",
    "print('Feature Matrix\\n', features[:3])\n",
    "print('Target Vector\\n', target[:3])\n",
    "\n",
    "# center: number of cluster generated"
   ]
  },
  {
   "cell_type": "code",
   "execution_count": null,
   "metadata": {},
   "outputs": [],
   "source": []
  }
 ],
 "metadata": {
  "kernelspec": {
   "display_name": "Python 3",
   "language": "python",
   "name": "python3"
  },
  "language_info": {
   "codemirror_mode": {
    "name": "ipython",
    "version": 3
   },
   "file_extension": ".py",
   "mimetype": "text/x-python",
   "name": "python",
   "nbconvert_exporter": "python",
   "pygments_lexer": "ipython3",
   "version": "3.7.7"
  }
 },
 "nbformat": 4,
 "nbformat_minor": 4
}
