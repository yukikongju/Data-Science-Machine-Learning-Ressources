{
 "cells": [
  {
   "cell_type": "markdown",
   "metadata": {},
   "source": [
    "#### Import Modules"
   ]
  },
  {
   "cell_type": "code",
   "execution_count": 1,
   "metadata": {},
   "outputs": [
    {
     "name": "stderr",
     "output_type": "stream",
     "text": [
      "Using TensorFlow backend.\n"
     ]
    }
   ],
   "source": [
    "import numpy as np\n",
    "from keras.models import Sequential\n",
    "from keras.layers import Dense\n",
    "from keras.preprocessing.text import Tokenizer\n",
    "from sklearn.datasets import make_regression\n",
    "from sklearn.model_selection import train_test_split\n",
    "from sklearn import preprocessing"
   ]
  },
  {
   "cell_type": "markdown",
   "metadata": {},
   "source": [
    "#### Set seed for reproducibility"
   ]
  },
  {
   "cell_type": "code",
   "execution_count": 3,
   "metadata": {},
   "outputs": [],
   "source": [
    "np.random.seed(400)"
   ]
  },
  {
   "cell_type": "markdown",
   "metadata": {},
   "source": [
    "#### Generating data"
   ]
  },
  {
   "cell_type": "code",
   "execution_count": 4,
   "metadata": {},
   "outputs": [],
   "source": [
    "features, target = make_regression(n_samples =10000,\n",
    "                                  n_features = 3,\n",
    "                                  n_informative =3,\n",
    "                                  n_targets =1, \n",
    "                                  noise=0,\n",
    "                                  random_state = 420)"
   ]
  },
  {
   "cell_type": "markdown",
   "metadata": {},
   "source": [
    "#### Split Data into training and testing data"
   ]
  },
  {
   "cell_type": "code",
   "execution_count": 5,
   "metadata": {},
   "outputs": [],
   "source": [
    "train_features, test_features, train_target, test_target =\\\n",
    "    train_test_split(features, target, test_size = 0.3, \n",
    "                    random_state = 0)"
   ]
  },
  {
   "cell_type": "markdown",
   "metadata": {},
   "source": [
    "#### Create model"
   ]
  },
  {
   "cell_type": "code",
   "execution_count": 7,
   "metadata": {},
   "outputs": [],
   "source": [
    "model = Sequential([\n",
    "    Dense(units = 32, activation = 'relu', \n",
    "          input_shape = (train_features.shape[1], )),\n",
    "    Dense(units = 32, activation ='relu'),\n",
    "    Dense(units =1)\n",
    "])\n",
    "\n",
    "model.compile(loss = 'mse',\n",
    "             optimizer = 'rmsprop',\n",
    "             metrics = ['mse'])"
   ]
  },
  {
   "cell_type": "markdown",
   "metadata": {},
   "source": [
    "#### Fit Model"
   ]
  },
  {
   "cell_type": "code",
   "execution_count": 8,
   "metadata": {},
   "outputs": [
    {
     "name": "stdout",
     "output_type": "stream",
     "text": [
      "Train on 7000 samples, validate on 3000 samples\n",
      "Epoch 1/3\n",
      "7000/7000 [==============================] - 0s 46us/step - loss: 9893.0519 - mse: 9893.0518 - val_loss: 9624.6773 - val_mse: 9624.6768\n",
      "Epoch 2/3\n",
      "7000/7000 [==============================] - 0s 14us/step - loss: 9175.1221 - mse: 9175.1221 - val_loss: 8639.2727 - val_mse: 8639.2725\n",
      "Epoch 3/3\n",
      "7000/7000 [==============================] - 0s 15us/step - loss: 7899.4703 - mse: 7899.4702 - val_loss: 7062.5148 - val_mse: 7062.5161\n"
     ]
    }
   ],
   "source": [
    "history = model.fit(train_features, train_target, epochs =3, \n",
    "         verbose =1, batch_size= 100, \n",
    "         validation_data = (test_features, test_target))"
   ]
  },
  {
   "cell_type": "markdown",
   "metadata": {},
   "source": [
    "#### Visualize Learning Curve"
   ]
  },
  {
   "cell_type": "code",
   "execution_count": 17,
   "metadata": {},
   "outputs": [
    {
     "data": {
      "text/plain": [
       "{'val_loss': [9624.677294921876, 8639.272672526042, 7062.51484375],\n",
       " 'val_mse': [9624.6767578125, 8639.2724609375, 7062.51611328125],\n",
       " 'loss': [9893.051918247767, 9175.122105189732, 7899.470347377232],\n",
       " 'mse': [9893.052, 9175.122, 7899.47]}"
      ]
     },
     "execution_count": 17,
     "metadata": {},
     "output_type": "execute_result"
    }
   ],
   "source": [
    "history.history"
   ]
  },
  {
   "cell_type": "code",
   "execution_count": 16,
   "metadata": {},
   "outputs": [
    {
     "data": {
      "image/png": "[encoded data removed]",
      "text/plain": [
       "<Figure size 432x288 with 2 Axes>"
      ]
     },
     "metadata": {
      "needs_background": "light"
     },
     "output_type": "display_data"
    }
   ],
   "source": [
    "import matplotlib.pyplot as plt\n",
    "\n",
    "# get loss and accuracy histories for training and test sets\n",
    "training_loss = history.history['loss']\n",
    "test_loss = history.history['val_loss']\n",
    "training_mse = history.history['mse']\n",
    "test_mse = history.history['val_mse']\n",
    "\n",
    "# create epochs count\n",
    "epoch_count = range(1, len(training_loss) +1)\n",
    "\n",
    "plt.figure()\n",
    "\n",
    "# visualize loss history\n",
    "plt.subplot(1,2,1)\n",
    "plt.plot(epoch_count, training_loss, 'r--')\n",
    "plt.plot(epoch_count, test_loss, 'b-')\n",
    "plt.legend(['Training Loss', 'Testing Loss'])\n",
    "plt.ylabel('Loss')\n",
    "plt.xlabel('Epochs')\n",
    "\n",
    "# visualize accuracy\n",
    "plt.subplot(1,2,2)\n",
    "plt.plot(epoch_count, training_mse, 'r--')\n",
    "plt.plot(epoch_count, test_mse, 'b-')\n",
    "plt.legend(['Training MSE', 'Testing MSE'])\n",
    "plt.ylabel('Accuracy')\n",
    "plt.xlabel('Epochs')\n",
    "plt.show()"
   ]
  }
 ],
 "metadata": {
  "kernelspec": {
   "display_name": "Python 3",
   "language": "python",
   "name": "python3"
  },
  "language_info": {
   "codemirror_mode": {
    "name": "ipython",
    "version": 3
   },
   "file_extension": ".py",
   "mimetype": "text/x-python",
   "name": "python",
   "nbconvert_exporter": "python",
   "pygments_lexer": "ipython3",
   "version": "3.7.7"
  }
 },
 "nbformat": 4,
 "nbformat_minor": 4
}
