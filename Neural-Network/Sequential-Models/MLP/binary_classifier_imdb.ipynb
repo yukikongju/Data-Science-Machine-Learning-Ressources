{
 "cells": [
  {
   "cell_type": "markdown",
   "metadata": {},
   "source": [
    "#### Import modules\n"
   ]
  },
  {
   "cell_type": "code",
   "execution_count": 2,
   "metadata": {},
   "outputs": [
    {
     "name": "stderr",
     "output_type": "stream",
     "text": [
      "Using TensorFlow backend.\n"
     ]
    }
   ],
   "source": [
    "import matplotlib.pyplot as plt\n",
    "import numpy as np\n",
    "from keras.datasets import imdb\n",
    "from keras.preprocessing.text import Tokenizer\n",
    "from keras.models import Sequential\n",
    "from keras.layers import Dense"
   ]
  },
  {
   "cell_type": "markdown",
   "metadata": {},
   "source": [
    "#### Set Seed for reproducibility"
   ]
  },
  {
   "cell_type": "code",
   "execution_count": 3,
   "metadata": {},
   "outputs": [],
   "source": [
    "np.random.seed(420)"
   ]
  },
  {
   "cell_type": "markdown",
   "metadata": {},
   "source": [
    "#### Loading Data in Traing and Testing Sets"
   ]
  },
  {
   "cell_type": "code",
   "execution_count": 4,
   "metadata": {},
   "outputs": [],
   "source": [
    "nb_features = 1000\n",
    "\n",
    "(train_data, train_target), (test_data, test_target) = \\\n",
    "    imdb.load_data(num_words = nb_features)"
   ]
  },
  {
   "cell_type": "markdown",
   "metadata": {},
   "source": [
    "#### Convert Features into one hot encoder"
   ]
  },
  {
   "cell_type": "code",
   "execution_count": 5,
   "metadata": {},
   "outputs": [],
   "source": [
    "tokenizer = Tokenizer(num_words = nb_features)\n",
    "train_data = tokenizer.sequences_to_matrix(train_data, \n",
    "                                           mode = 'binary')\n",
    "test_data = tokenizer.sequences_to_matrix(test_data,\n",
    "                                          mode ='binary')"
   ]
  },
  {
   "cell_type": "markdown",
   "metadata": {},
   "source": [
    "#### Create Neural Network"
   ]
  },
  {
   "cell_type": "code",
   "execution_count": 6,
   "metadata": {},
   "outputs": [],
   "source": [
    "model = Sequential([    \n",
    "    Dense(units = 16, activation = 'relu', input_shape=(nb_features,)),\n",
    "    Dense(units = 16, activation = 'relu'),\n",
    "    Dense(units = 1, activation = 'sigmoid')\n",
    "])\n",
    "\n",
    "model.compile(loss = 'binary_crossentropy',\n",
    "             optimizer = 'rmsprop',\n",
    "             metrics = ['accuracy'])"
   ]
  },
  {
   "cell_type": "markdown",
   "metadata": {},
   "source": [
    "#### Fit Model"
   ]
  },
  {
   "cell_type": "code",
   "execution_count": 8,
   "metadata": {},
   "outputs": [
    {
     "name": "stdout",
     "output_type": "stream",
     "text": [
      "Train on 25000 samples, validate on 25000 samples\n",
      "Epoch 1/15\n",
      "25000/25000 [==============================] - 1s 23us/step - loss: 0.2890 - accuracy: 0.8810 - val_loss: 0.3383 - val_accuracy: 0.8566\n",
      "Epoch 2/15\n",
      "25000/25000 [==============================] - 1s 23us/step - loss: 0.2824 - accuracy: 0.8854 - val_loss: 0.3404 - val_accuracy: 0.8552\n",
      "Epoch 3/15\n",
      "25000/25000 [==============================] - 1s 23us/step - loss: 0.2806 - accuracy: 0.8848 - val_loss: 0.3407 - val_accuracy: 0.8540\n",
      "Epoch 4/15\n",
      "25000/25000 [==============================] - 1s 22us/step - loss: 0.2803 - accuracy: 0.8850 - val_loss: 0.3347 - val_accuracy: 0.8589\n",
      "Epoch 5/15\n",
      "25000/25000 [==============================] - 1s 24us/step - loss: 0.2748 - accuracy: 0.8881 - val_loss: 0.3428 - val_accuracy: 0.8538\n",
      "Epoch 6/15\n",
      "25000/25000 [==============================] - 1s 26us/step - loss: 0.2769 - accuracy: 0.8870 - val_loss: 0.3430 - val_accuracy: 0.8552\n",
      "Epoch 7/15\n",
      "25000/25000 [==============================] - 1s 23us/step - loss: 0.2733 - accuracy: 0.8887 - val_loss: 0.3330 - val_accuracy: 0.8589\n",
      "Epoch 8/15\n",
      "25000/25000 [==============================] - 1s 24us/step - loss: 0.2692 - accuracy: 0.8913 - val_loss: 0.3379 - val_accuracy: 0.8575\n",
      "Epoch 9/15\n",
      "25000/25000 [==============================] - 1s 25us/step - loss: 0.2686 - accuracy: 0.8892 - val_loss: 0.3367 - val_accuracy: 0.8557\n",
      "Epoch 10/15\n",
      "25000/25000 [==============================] - 1s 24us/step - loss: 0.2685 - accuracy: 0.8894 - val_loss: 0.3388 - val_accuracy: 0.8542\n",
      "Epoch 11/15\n",
      "25000/25000 [==============================] - 1s 25us/step - loss: 0.2630 - accuracy: 0.8912 - val_loss: 0.3464 - val_accuracy: 0.8542\n",
      "Epoch 12/15\n",
      "25000/25000 [==============================] - 1s 23us/step - loss: 0.2632 - accuracy: 0.8912 - val_loss: 0.3418 - val_accuracy: 0.8563\n",
      "Epoch 13/15\n",
      "25000/25000 [==============================] - 1s 25us/step - loss: 0.2582 - accuracy: 0.8943 - val_loss: 0.3495 - val_accuracy: 0.8532\n",
      "Epoch 14/15\n",
      "25000/25000 [==============================] - 1s 23us/step - loss: 0.2568 - accuracy: 0.8953 - val_loss: 0.3539 - val_accuracy: 0.8516\n",
      "Epoch 15/15\n",
      "25000/25000 [==============================] - 1s 23us/step - loss: 0.2548 - accuracy: 0.8969 - val_loss: 0.3406 - val_accuracy: 0.8544\n"
     ]
    }
   ],
   "source": [
    "history = model.fit(train_data, train_target, epochs = 15, \n",
    "                   verbose = 1, batch_size = 1000,\n",
    "                   validation_data = (test_data, test_target))"
   ]
  },
  {
   "cell_type": "markdown",
   "metadata": {},
   "source": [
    "#### Predict Values"
   ]
  },
  {
   "cell_type": "code",
   "execution_count": 9,
   "metadata": {},
   "outputs": [],
   "source": [
    "predicted_target = model.predict(test_data)"
   ]
  },
  {
   "cell_type": "markdown",
   "metadata": {},
   "source": [
    "#### Visualize Learning Curve"
   ]
  },
  {
   "cell_type": "code",
   "execution_count": 12,
   "metadata": {},
   "outputs": [
    {
     "data": {
      "image/png": "[encoded data removed]",
      "text/plain": [
       "<Figure size 432x288 with 2 Axes>"
      ]
     },
     "metadata": {
      "needs_background": "light"
     },
     "output_type": "display_data"
    }
   ],
   "source": [
    "# get loss and accuracy history\n",
    "training_loss = history.history['loss']\n",
    "test_loss = history.history['val_loss']\n",
    "training_accuracy = history.history['accuracy']\n",
    "test_accuracy = history.history['val_accuracy']\n",
    "\n",
    "# create epochs count\n",
    "epoch_count = range(1, len(training_loss) +1)\n",
    "\n",
    "plt.figure()\n",
    "\n",
    "# visualize loss history\n",
    "plt.subplot(1,2,1)\n",
    "plt.plot(epoch_count, training_loss, 'r--')\n",
    "plt.plot(epoch_count, test_loss, 'b-')\n",
    "plt.legend(['Training Loss', 'Testing Loss'])\n",
    "plt.ylabel('Loss')\n",
    "plt.xlabel('Epochs')\n",
    "\n",
    "# visualize accuracy\n",
    "plt.subplot(1,2,2)\n",
    "plt.plot(epoch_count, training_accuracy, 'r--')\n",
    "plt.plot(epoch_count, test_accuracy, 'b-')\n",
    "plt.legend(['Training Accuracy', 'Testing Accuracy'])\n",
    "plt.ylabel('Accuracy')\n",
    "plt.xlabel('Epochs')\n",
    "plt.show()"
   ]
  },
  {
   "cell_type": "code",
   "execution_count": null,
   "metadata": {},
   "outputs": [],
   "source": []
  }
 ],
 "metadata": {
  "kernelspec": {
   "display_name": "Python 3",
   "language": "python",
   "name": "python3"
  },
  "language_info": {
   "codemirror_mode": {
    "name": "ipython",
    "version": 3
   },
   "file_extension": ".py",
   "mimetype": "text/x-python",
   "name": "python",
   "nbconvert_exporter": "python",
   "pygments_lexer": "ipython3",
   "version": "3.7.7"
  }
 },
 "nbformat": 4,
 "nbformat_minor": 4
}
